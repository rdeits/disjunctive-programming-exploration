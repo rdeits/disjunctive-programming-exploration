{
 "cells": [
  {
   "cell_type": "markdown",
   "metadata": {},
   "source": [
    "# Disjunctive Programming\n",
    "Let's compare two different approaches to disjunctive programming: Big-M and convex hull. "
   ]
  },
  {
   "cell_type": "markdown",
   "metadata": {},
   "source": [
    "## A simple problem\n",
    "minimize $ x^\\top Q x + q^\\top x $\n",
    "\n",
    "subject to:\n",
    "$$\n",
    "\\begin{aligned}\n",
    "x \\in R_1 \\cup R_2\\\\\n",
    "x_{lb} \\leq x \\leq x_{ub}\n",
    "\\end{aligned}\n",
    "$$\n",
    "\n",
    "where $R_i$ is a polyhedron specified by\n",
    "$$\n",
    "R_i \\equiv \\{ x\\  |\\  A_i x \\leq b_i \\}\n",
    "$$"
   ]
  },
  {
   "cell_type": "markdown",
   "metadata": {},
   "source": [
    "## Binary variables\n",
    "We'll rewrite the above problem by introducing binary variables $z_i$:\n",
    "\n",
    "minimize $ x^\\top Q x + q^\\top x $\n",
    "\n",
    "over $x$, $z_i$\n",
    "\n",
    "subject to:\n",
    "$$\n",
    "\\begin{aligned}\n",
    "z_1 = 1 \\implies x \\in R_1\\\\\n",
    "z_2 = 1 \\implies x \\in R_2\\\\\n",
    "z_i \\in \\{0, 1\\}\\\\\n",
    "\\sum_i z_i = 1\\\\\n",
    "x_{lb} \\leq x \\leq x_{ub}\n",
    "\\end{aligned}\n",
    "$$\n"
   ]
  },
  {
   "cell_type": "markdown",
   "metadata": {},
   "source": [
    "## Big-M\n",
    "The big-M formulation lets us convert the implies operators into linear constraints:\n",
    "\n",
    "$$\n",
    "z_i = 1 \\implies x \\in R_i\n",
    "$$\n",
    "\n",
    "becomes\n",
    "\n",
    "$$\n",
    "A_i x + M z_i \\leq b_i + M\n",
    "$$\n",
    "\n",
    "If M is sufficiently big, then when $z_i$ is $0$, the constraint becomes trivial, and when $z_i$ is $1$, the constraint becomes exactly $x \\in R_1$. \n"
   ]
  },
  {
   "cell_type": "markdown",
   "metadata": {},
   "source": [
    "# Implementation\n",
    "## Generating regions\n",
    "We'll generate the regions as the convex hull of some random points:"
   ]
  },
  {
   "cell_type": "code",
   "execution_count": 124,
   "metadata": {
    "collapsed": false
   },
   "outputs": [],
   "source": [
    "using CHull"
   ]
  },
  {
   "cell_type": "code",
   "execution_count": 125,
   "metadata": {
    "collapsed": false
   },
   "outputs": [
    {
     "data": {
      "text/plain": [
       "hull_points (generic function with 1 method)"
      ]
     },
     "execution_count": 125,
     "metadata": {},
     "output_type": "execute_result"
    }
   ],
   "source": [
    "function hull_points(P::Array{Float64,2})\n",
    "    hull = chull(P)\n",
    "    hull_pts = Array(Float64, size(hull.vertices, 1) + 1, size(P, 2))\n",
    "    line_segments = Dict{Int64,Int64}()\n",
    "    for i in 1:size(hull.vertices, 1)\n",
    "        line_segments[hull.vertices[i,1]] = hull.vertices[i,2]\n",
    "    end\n",
    "    start = hull.vertices[1,1]\n",
    "    hull_pts[1,:] = P[start,:]\n",
    "    for i = 1:size(hull.vertices, 1)\n",
    "        start = line_segments[start]\n",
    "        hull_pts[i+1,:] = P[start,:]\n",
    "    end\n",
    "    return hull_pts\n",
    "end\n",
    "    "
   ]
  },
  {
   "cell_type": "code",
   "execution_count": 126,
   "metadata": {
    "collapsed": false
   },
   "outputs": [
    {
     "data": {
      "text/plain": [
       "2-element Array{Float64,1}:\n",
       " 5.0\n",
       " 1.5"
      ]
     },
     "execution_count": 126,
     "metadata": {},
     "output_type": "execute_result"
    }
   ],
   "source": [
    "dim = 2\n",
    "num_regions = 10\n",
    "P = Array{Float64,2}[]\n",
    "A = Array{Float64,2}[]\n",
    "b = Array{Float64,2}[]\n",
    "R = [0 1; -1 0]\n",
    "\n",
    "for j in 1:num_regions\n",
    "    P_unordered = rand(4, dim) .+ [j 0]\n",
    "    push!(P, hull_points(P_unordered))\n",
    "    push!(A, Array(Float64, size(P[j], 1) - 1, size(P[j])[2]))\n",
    "    push!(b, Array(Float64, size(A[j], 1), 1))\n",
    "    for i in 1:size(P[j], 1)-1\n",
    "        v = P[j][i+1, :] - P[j][i, :]\n",
    "        \n",
    "        A[j][i,:] = (R * v.')\n",
    "        A[j][i,:] = A[j][i,:] ./ norm(A[j][i,:])\n",
    "        b[j][i,:] = (A[j][i,:] * P[j][i,:].')\n",
    "    end\n",
    "end\n",
    "x_lb = 0\n",
    "x_ub = num_regions + 2\n",
    "x_goal = [num_regions / 2; 1.5]"
   ]
  },
  {
   "cell_type": "code",
   "execution_count": 127,
   "metadata": {
    "collapsed": true
   },
   "outputs": [],
   "source": [
    "using JuMP"
   ]
  },
  {
   "cell_type": "code",
   "execution_count": 128,
   "metadata": {
    "collapsed": false
   },
   "outputs": [
    {
     "data": {
      "text/latex": [
       "$$ \\begin{alignat*}{1}\\min\\quad & 0\\\\\n",
       "\\text{Subject to} \\quad\\end{alignat*}\n",
       " $$"
      ],
      "text/plain": [
       "Feasibility problem with:\n",
       " * 0 linear constraints\n",
       " * 0 variables\n",
       "Solver set to Default"
      ]
     },
     "execution_count": 128,
     "metadata": {},
     "output_type": "execute_result"
    }
   ],
   "source": [
    "bigM = Model()"
   ]
  },
  {
   "cell_type": "code",
   "execution_count": 129,
   "metadata": {
    "collapsed": false
   },
   "outputs": [
    {
     "data": {
      "text/latex": [
       "$$ x_{i} free \\quad\\forall i \\in \\{1,2\\} $$"
      ],
      "text/plain": [
       "2-element Array{Variable,1}:\n",
       " x[1]\n",
       " x[2]"
      ]
     },
     "execution_count": 129,
     "metadata": {},
     "output_type": "execute_result"
    }
   ],
   "source": [
    "@defVar(bigM, x[1:dim])"
   ]
  },
  {
   "cell_type": "code",
   "execution_count": 130,
   "metadata": {
    "collapsed": false
   },
   "outputs": [
    {
     "data": {
      "text/latex": [
       "$$ z_{i} \\in \\{0,1\\} \\quad\\forall i \\in \\{1,2,\\dots,9,10\\} $$"
      ],
      "text/plain": [
       "10-element Array{Variable,1}:\n",
       " z[1] \n",
       " z[2] \n",
       " z[3] \n",
       " z[4] \n",
       " z[5] \n",
       " z[6] \n",
       " z[7] \n",
       " z[8] \n",
       " z[9] \n",
       " z[10]"
      ]
     },
     "execution_count": 130,
     "metadata": {},
     "output_type": "execute_result"
    }
   ],
   "source": [
    "@defVar(bigM, z[1:num_regions], Bin)"
   ]
  },
  {
   "cell_type": "code",
   "execution_count": 131,
   "metadata": {
    "collapsed": false
   },
   "outputs": [
    {
     "data": {
      "text/latex": [
       "$$ z_{1} + z_{2} + z_{3} + z_{4} + z_{5} + z_{6} + z_{7} + z_{8} + z_{9} + z_{10} = 1 $$"
      ],
      "text/plain": [
       "z[1] + z[2] + z[3] + z[4] + z[5] + z[6] + z[7] + z[8] + z[9] + z[10] = 1"
      ]
     },
     "execution_count": 131,
     "metadata": {},
     "output_type": "execute_result"
    }
   ],
   "source": [
    "@addConstraint(bigM, sum(z) == 1)"
   ]
  },
  {
   "cell_type": "code",
   "execution_count": 132,
   "metadata": {
    "collapsed": false
   },
   "outputs": [],
   "source": [
    "M = 100\n",
    "for i in 1:num_regions\n",
    "    @addConstraint(bigM, A[i] * x .+ M * z[i] .<= b[i] .+ M)\n",
    "end\n"
   ]
  },
  {
   "cell_type": "code",
   "execution_count": 133,
   "metadata": {
    "collapsed": false
   },
   "outputs": [
    {
     "data": {
      "text/plain": [
       "2-element Array{ConstraintRef{GenericRangeConstraint{GenericAffExpr{Float64,Variable}}},1}:\n",
       " x[1] ≤ 12\n",
       " x[2] ≤ 12"
      ]
     },
     "execution_count": 133,
     "metadata": {},
     "output_type": "execute_result"
    }
   ],
   "source": [
    "@addConstraint(bigM, x_lb .<= x)\n",
    "@addConstraint(bigM, x .<= x_ub)"
   ]
  },
  {
   "cell_type": "code",
   "execution_count": 134,
   "metadata": {
    "collapsed": false
   },
   "outputs": [
    {
     "data": {
      "text/plain": [
       ":Min"
      ]
     },
     "execution_count": 134,
     "metadata": {},
     "output_type": "execute_result"
    }
   ],
   "source": [
    "@setObjective(bigM, Min, sum((x - x_goal).^2))"
   ]
  },
  {
   "cell_type": "code",
   "execution_count": 135,
   "metadata": {
    "collapsed": false
   },
   "outputs": [
    {
     "data": {
      "text/latex": [
       "$$ \\begin{alignat*}{1}\\min\\quad & x_{1}^2 + x_{2}^2 - 10 x_{1} - 3 x_{2} + 27.25\\\\\n",
       "\\text{Subject to} \\quad & z_{1} + z_{2} + z_{3} + z_{4} + z_{5} + z_{6} + z_{7} + z_{8} + z_{9} + z_{10} = 1\\\\\n",
       " & 0.10480759970800038 x_{1} + 0.9944925173390937 x_{2} + 100 z_{1} \\leq 100.92925487222217\\\\\n",
       " & -0.8028832243042939 x_{1} - 0.5961363335099957 x_{2} + 100 z_{1} \\leq 98.49690847264883\\\\\n",
       " & 0.8847347381860654 x_{1} - 0.46609488631268453 x_{2} + 100 z_{1} \\leq 101.40211342304084\\\\\n",
       " & -0.678765493628802 x_{1} - 0.734355094391568 x_{2} + 100 z_{2} \\leq 98.20137367075131\\\\\n",
       " & 0.62315825096853 x_{1} - 0.7820957705101356 x_{2} + 100 z_{2} \\leq 101.46991161074506\\\\\n",
       " & 0.37915091244106663 x_{1} + 0.9253348505244503 x_{2} + 100 z_{2} \\leq 101.53793705823507\\\\\n",
       " & -0.331857484210983 x_{1} + 0.943329534241962 x_{2} + 100 z_{2} \\leq 99.6515510534102\\\\\n",
       " & -0.10539022018592707 x_{1} + 0.9944309435497077 x_{2} + 100 z_{3} \\leq 100.43666572046357\\\\\n",
       " & -0.5066486616208467 x_{1} - 0.8621526162332309 x_{2} + 100 z_{3} \\leq 97.72965175761894\\\\\n",
       " & -0.3279973467114222 x_{1} - 0.9446786440638252 x_{2} + 100 z_{3} \\leq 98.3170552625805\\\\\n",
       " & 0.9983230641431788 x_{1} - 0.057888337338143706 x_{2} + 100 z_{3} \\leq 103.93464283447145\\\\\n",
       " & 0.5856050221333623 x_{1} + 0.8105965445597361 x_{2} + 100 z_{4} \\leq 103.2828312097104\\\\\n",
       " & -0.999900891775599 x_{1} - 0.014078587513027672 x_{2} + 100 z_{4} \\leq 95.66742003342483\\\\\n",
       " & -0.8806023384078651 x_{1} - 0.4738560135638251 x_{2} + 100 z_{4} \\leq 96.08754425750334\\\\\n",
       " & 0.6801053271750058 x_{1} - 0.7331144139547238 x_{2} + 100 z_{4} \\leq 102.85505715828506\\\\\n",
       " & -0.951158027954601 x_{1} - 0.3087043988308465 x_{2} + 100 z_{5} \\leq 94.78218724137203\\\\\n",
       " & 0.48176501610823474 x_{1} - 0.8763004446274304 x_{2} + 100 z_{5} \\leq 102.11876164547736\\\\\n",
       " & 0.8174461300221744 x_{1} + 0.5760050559776104 x_{2} + 100 z_{5} \\leq 105.17849268099262\\\\\n",
       " & -0.37261221210938744 x_{1} + 0.9279871439771938 x_{2} + 100 z_{5} \\leq 98.72854457335401\\\\\n",
       " & -0.03628280600764551 x_{1} - 0.9993415622239532 x_{2} + 100 z_{6} \\leq 99.62778335865441\\\\\n",
       " & 0.9862815543674414 x_{1} - 0.1650717889723863 x_{2} + 100 z_{6} \\leq 106.57869079807067\\\\\n",
       " & -0.20702177657952228 x_{1} + 0.9783363348163342 x_{2} + 100 z_{6} \\leq 99.12191248365966\\\\\n",
       " & -0.9356997864826793 x_{1} + 0.35279726412809476 x_{2} + 100 z_{6} \\leq 94.42823349980915\\\\\n",
       " & 0.541661450938561 x_{1} - 0.8405967359960025 x_{2} + 100 z_{7} \\leq 103.83324127517791\\\\\n",
       " & -0.10390085376698689 x_{1} + 0.9945876595788281 x_{2} + 100 z_{7} \\leq 99.70075726022996\\\\\n",
       " & -0.9315501859447317 x_{1} + 0.3636127762693937 x_{2} + 100 z_{7} \\leq 93.25581745867214\\\\\n",
       " & -0.1938827180297402 x_{1} - 0.9810247151063015 x_{2} + 100 z_{8} \\leq 98.26810779317213\\\\\n",
       " & 0.6670227255214863 x_{1} - 0.7450373706317611 x_{2} + 100 z_{8} \\leq 105.66362632391997\\\\\n",
       " & 0.8558082082266527 x_{1} + 0.5172932540947026 x_{2} + 100 z_{8} \\leq 107.81684208400088\\\\\n",
       " & -0.32783534306708706 x_{1} + 0.9447348770084046 x_{2} + 100 z_{8} \\leq 97.46770857200829\\\\\n",
       " & 0.02185446790338968 x_{1} - 0.999761162594677 x_{2} + 100 z_{9} \\leq 100.01862319738402\\\\\n",
       " & 0.9299665394788498 x_{1} + 0.36764416961204904 x_{2} + 100 z_{9} \\leq 109.2634088799384\\\\\n",
       " & -0.9976838795244785 x_{1} + 0.0680211477188236 x_{2} + 100 z_{9} \\leq 90.48194980635267\\\\\n",
       " & 0.11306154993354144 x_{1} + 0.9935879860015545 x_{2} + 100 z_{10} \\leq 102.09359845076793\\\\\n",
       " & -0.4598405586955336 x_{1} - 0.8880014980722609 x_{2} + 100 z_{10} \\leq 94.52077985724402\\\\\n",
       " & -0.44532605399716 x_{1} - 0.8953684747808127 x_{2} + 100 z_{10} \\leq 94.66695560870714\\\\\n",
       " & 0.9981397871445927 x_{1} - 0.0609669198742004 x_{2} + 100 z_{10} \\leq 110.77380097320938\\\\\n",
       " & -x_{1} \\leq 0\\\\\n",
       " & -x_{2} \\leq 0\\\\\n",
       " & x_{1} \\leq 12\\\\\n",
       " & x_{2} \\leq 12\\\\\n",
       " & x_{i} free \\quad\\forall i \\in \\{1,2\\}\\\\\n",
       " & z_{i} \\in \\{0,1\\} \\quad\\forall i \\in \\{1,2,\\dots,9,10\\}\\\\\n",
       "\\end{alignat*}\n",
       " $$"
      ],
      "text/plain": [
       "Minimization problem with:\n",
       " * 42 linear constraints\n",
       " * 12 variables: 10 binary\n",
       "Solver set to Default"
      ]
     },
     "execution_count": 135,
     "metadata": {},
     "output_type": "execute_result"
    }
   ],
   "source": [
    "bigM"
   ]
  },
  {
   "cell_type": "code",
   "execution_count": 136,
   "metadata": {
    "collapsed": false
   },
   "outputs": [
    {
     "name": "stdout",
     "output_type": "stream",
     "text": [
      "Optimize a model with 42 rows, 12 columns and 125 nonzeros\n",
      "Model has 2 quadratic objective terms\n",
      "Coefficient statistics:\n",
      "  Matrix range    [1e-02, 1e+02]\n",
      "  Objective range [3e+00, 1e+01]\n",
      "  Bounds range    [1e+00, 1e+00]\n",
      "  RHS range       [1e+00, 1e+02]\n",
      "Found heuristic solution: objective -16.5551\n",
      "Presolve removed 4 rows and 0 columns\n",
      "Presolve time: 0.00s\n",
      "Presolved: 38 rows, 12 columns, 454 nonzeros\n",
      "Presolved model has 2 quadratic objective terms\n",
      "Variable types: 2 continuous, 10 integer (10 binary)\n",
      "\n",
      "Root relaxation: objective -2.703119e+01, 30 iterations, 0.00 seconds\n",
      "\n",
      "    Nodes    |    Current Node    |     Objective Bounds      |     Work\n",
      " Expl Unexpl |  Obj  Depth IntInf | Incumbent    BestBd   Gap | It/Node Time\n",
      "\n",
      "     0     0  -27.03119    0    3  -16.55511  -27.03119  63.3%     -    0s\n",
      "H    0     0                     -25.8254962  -27.03119  4.67%     -    0s\n",
      "     0     0  -27.01850    0    4  -25.82550  -27.01850  4.62%     -    0s\n",
      "     0     0  -27.01844    0    3  -25.82550  -27.01844  4.62%     -    0s\n",
      "     0     2  -27.01844    0    3  -25.82550  -27.01844  4.62%     -    0s\n",
      "*    5     0               5     -26.5085262  -26.60940  0.38%   7.2    0s\n",
      "*    6     0               1     -26.6093997  -26.60940  0.00%   7.0    0s\n",
      "\n",
      "Explored 7 nodes (82 simplex iterations) in 0.01 seconds\n",
      "Thread count was 4 (of 8 available processors)\n",
      "\n",
      "Optimal solution found (tolerance 1.00e-04)\n",
      "Best objective -2.660939972801e+01, best bound -2.660939972801e+01, gap 0.0%\n"
     ]
    },
    {
     "data": {
      "text/plain": [
       ":Optimal"
      ]
     },
     "execution_count": 136,
     "metadata": {},
     "output_type": "execute_result"
    }
   ],
   "source": [
    "status = solve(bigM)"
   ]
  },
  {
   "cell_type": "code",
   "execution_count": 137,
   "metadata": {
    "collapsed": false
   },
   "outputs": [],
   "source": [
    "using PyPlot"
   ]
  },
  {
   "cell_type": "code",
   "execution_count": 150,
   "metadata": {
    "collapsed": false
   },
   "outputs": [
    {
     "data": {
      "image/png": "[encoded data removed]",
      "text/plain": [
       "Figure(PyObject <matplotlib.figure.Figure object at 0x1221e3bd0>)"
      ]
     },
     "metadata": {},
     "output_type": "display_data"
    },
    {
     "data": {
      "text/plain": [
       "(0.0,12.0,0.0,1.6)"
      ]
     },
     "execution_count": 150,
     "metadata": {},
     "output_type": "execute_result"
    }
   ],
   "source": [
    "figure()\n",
    "hold(1)\n",
    "for j in 1:num_regions\n",
    "    plot(P[j][:,1], P[j][:,2], \"b.-\")\n",
    "end\n",
    "plot([getValue(x[1])], [getValue(x[2])], \"g*\", markersize=15, markerfacecolor=\"g\")\n",
    "plot([x_goal[1]], [x_goal[2]], \"r*\", markersize=15)\n",
    "axis(\"equal\")"
   ]
  },
  {
   "cell_type": "markdown",
   "metadata": {},
   "source": [
    "## Convex Hull formulation\n",
    "minimize $ x^\\top Q x + q^\\top x $\n",
    "\n",
    "subject to:\n",
    "$$\n",
    "\\begin{aligned}\n",
    "v &= u_1 + u_2\\\\\n",
    "A_1 u_1 &\\leq y_1 b_1\\\\\n",
    "A_2 u_2 &\\leq y_2 b_2\\\\\n",
    "y_1 x_{lb} &\\leq u_1 \\leq y_1 x_{ub}\\\\\n",
    "y_2 x_{lb} &\\leq u_2 \\leq y_2 x_{ub}\\\\\n",
    "y_i &\\in \\{0, 1\\}\n",
    "\\end{aligned}\n",
    "$$\n",
    "\n",
    "where $R_i$ is a polyhedron specified by\n",
    "$$\n",
    "R_i \\equiv \\{ x\\  |\\  A_i x \\leq b_i \\}\n",
    "$$\n",
    "\n",
    "\n"
   ]
  },
  {
   "cell_type": "code",
   "execution_count": 139,
   "metadata": {
    "collapsed": false
   },
   "outputs": [
    {
     "data": {
      "text/latex": [
       "$$ \\begin{alignat*}{1}\\min\\quad & 0\\\\\n",
       "\\text{Subject to} \\quad\\end{alignat*}\n",
       " $$"
      ],
      "text/plain": [
       "Feasibility problem with:\n",
       " * 0 linear constraints\n",
       " * 0 variables\n",
       "Solver set to Default"
      ]
     },
     "execution_count": 139,
     "metadata": {},
     "output_type": "execute_result"
    }
   ],
   "source": [
    "conv = Model()"
   ]
  },
  {
   "cell_type": "code",
   "execution_count": 140,
   "metadata": {
    "collapsed": false
   },
   "outputs": [
    {
     "data": {
      "text/latex": [
       "$$ v_{i} free \\quad\\forall i \\in \\{1,2\\} $$"
      ],
      "text/plain": [
       "2-element Array{Variable,1}:\n",
       " v[1]\n",
       " v[2]"
      ]
     },
     "execution_count": 140,
     "metadata": {},
     "output_type": "execute_result"
    }
   ],
   "source": [
    "@defVar(conv, v[1:dim])"
   ]
  },
  {
   "cell_type": "code",
   "execution_count": 141,
   "metadata": {
    "collapsed": false
   },
   "outputs": [
    {
     "data": {
      "text/latex": [
       "$$ u_{i,j} free \\quad\\forall i \\in \\{1,2,\\dots,9,10\\}, j \\in \\{1,2\\} $$"
      ],
      "text/plain": [
       "10x2 Array{Variable,2}:\n",
       " u[1,1]   u[1,2] \n",
       " u[2,1]   u[2,2] \n",
       " u[3,1]   u[3,2] \n",
       " u[4,1]   u[4,2] \n",
       " u[5,1]   u[5,2] \n",
       " u[6,1]   u[6,2] \n",
       " u[7,1]   u[7,2] \n",
       " u[8,1]   u[8,2] \n",
       " u[9,1]   u[9,2] \n",
       " u[10,1]  u[10,2]"
      ]
     },
     "execution_count": 141,
     "metadata": {},
     "output_type": "execute_result"
    }
   ],
   "source": [
    "@defVar(conv, u[1:num_regions, 1:dim])"
   ]
  },
  {
   "cell_type": "code",
   "execution_count": 142,
   "metadata": {
    "collapsed": false
   },
   "outputs": [
    {
     "data": {
      "text/latex": [
       "$$ y_{i} \\in \\{0,1\\} \\quad\\forall i \\in \\{1,2,\\dots,9,10\\} $$"
      ],
      "text/plain": [
       "10-element Array{Variable,1}:\n",
       " y[1] \n",
       " y[2] \n",
       " y[3] \n",
       " y[4] \n",
       " y[5] \n",
       " y[6] \n",
       " y[7] \n",
       " y[8] \n",
       " y[9] \n",
       " y[10]"
      ]
     },
     "execution_count": 142,
     "metadata": {},
     "output_type": "execute_result"
    }
   ],
   "source": [
    "@defVar(conv, y[1:num_regions], Bin)"
   ]
  },
  {
   "cell_type": "code",
   "execution_count": 143,
   "metadata": {
    "collapsed": false
   },
   "outputs": [
    {
     "data": {
      "text/latex": [
       "$$ y_{1} + y_{2} + y_{3} + y_{4} + y_{5} + y_{6} + y_{7} + y_{8} + y_{9} + y_{10} = 1 $$"
      ],
      "text/plain": [
       "y[1] + y[2] + y[3] + y[4] + y[5] + y[6] + y[7] + y[8] + y[9] + y[10] = 1"
      ]
     },
     "execution_count": 143,
     "metadata": {},
     "output_type": "execute_result"
    }
   ],
   "source": [
    "@addConstraint(conv, sum(y) == 1)"
   ]
  },
  {
   "cell_type": "code",
   "execution_count": 144,
   "metadata": {
    "collapsed": false
   },
   "outputs": [],
   "source": [
    "for i in 1:num_regions\n",
    "    @addConstraint(conv, A[i] * (u[i,:].') .<= y[i] .* b[i])\n",
    "end"
   ]
  },
  {
   "cell_type": "code",
   "execution_count": 145,
   "metadata": {
    "collapsed": false
   },
   "outputs": [],
   "source": [
    "for i in 1:num_regions\n",
    "    @addConstraint(conv, y[i] * x_lb .<= u[i,:])\n",
    "    @addConstraint(conv, u[i,:] .<= y[i] * x_ub)\n",
    "end"
   ]
  },
  {
   "cell_type": "code",
   "execution_count": 146,
   "metadata": {
    "collapsed": false
   },
   "outputs": [
    {
     "data": {
      "text/plain": [
       "2-element Array{ConstraintRef{GenericRangeConstraint{GenericAffExpr{Float64,Variable}}},1}:\n",
       " v[1] - u[1,1] - u[2,1] - u[3,1] - u[4,1] - u[5,1] - u[6,1] - u[7,1] - u[8,1] - u[9,1] - u[10,1] = 0\n",
       " v[2] - u[1,2] - u[2,2] - u[3,2] - u[4,2] - u[5,2] - u[6,2] - u[7,2] - u[8,2] - u[9,2] - u[10,2] = 0"
      ]
     },
     "execution_count": 146,
     "metadata": {},
     "output_type": "execute_result"
    }
   ],
   "source": [
    "@defExpr(sum_u, sum{u[i,:], i=1:num_regions})\n",
    "@addConstraint(conv, v .== vec(sum_u))"
   ]
  },
  {
   "cell_type": "code",
   "execution_count": 147,
   "metadata": {
    "collapsed": false
   },
   "outputs": [
    {
     "data": {
      "text/plain": [
       ":Min"
      ]
     },
     "execution_count": 147,
     "metadata": {},
     "output_type": "execute_result"
    }
   ],
   "source": [
    "@setObjective(conv, Min, sum((v - x_goal).^2))"
   ]
  },
  {
   "cell_type": "code",
   "execution_count": 148,
   "metadata": {
    "collapsed": false
   },
   "outputs": [
    {
     "name": "stdout",
     "output_type": "stream",
     "text": [
      "Optimize a model with 80 rows, 32 columns and 203 nonzeros\n",
      "Model has 2 quadratic objective terms\n",
      "Coefficient statistics:\n",
      "  Matrix range    [1e-02, 1e+01]\n",
      "  Objective range [3e+00, 1e+01]\n",
      "  Bounds range    [1e+00, 1e+00]\n",
      "  RHS range       [1e+00, 1e+00]\n",
      "Found heuristic solution: objective -16.5551\n",
      "Presolve removed 28 rows and 0 columns\n",
      "Presolve time: 0.00s\n",
      "Presolved: 52 rows, 32 columns, 167 nonzeros\n",
      "Presolved model has 2 quadratic objective terms\n",
      "Variable types: 22 continuous, 10 integer (10 binary)\n",
      "\n",
      "Root relaxation: objective -2.692855e+01, 96 iterations, 0.00 seconds\n",
      "\n",
      "    Nodes    |    Current Node    |     Objective Bounds      |     Work\n",
      " Expl Unexpl |  Obj  Depth IntInf | Incumbent    BestBd   Gap | It/Node Time\n",
      "\n",
      "     0     0  -26.92855    0    2  -16.55511  -26.92855  62.7%     -    0s\n",
      "H    0     0                     -26.5085262  -26.92855  1.58%     -    0s\n",
      "     0     2  -26.92855    0    2  -26.50853  -26.92855  1.58%     -    0s\n",
      "*    3     1               3     -26.6093997  -26.75914  0.56%   5.7    0s\n",
      "\n",
      "Explored 5 nodes (114 simplex iterations) in 0.00 seconds\n",
      "Thread count was 4 (of 8 available processors)\n",
      "\n",
      "Optimal solution found (tolerance 1.00e-04)\n",
      "Best objective -2.660939972801e+01, best bound -2.660939972801e+01, gap 0.0%\n"
     ]
    },
    {
     "data": {
      "text/plain": [
       ":Optimal"
      ]
     },
     "execution_count": 148,
     "metadata": {},
     "output_type": "execute_result"
    }
   ],
   "source": [
    "status = solve(conv)"
   ]
  },
  {
   "cell_type": "code",
   "execution_count": 151,
   "metadata": {
    "collapsed": false
   },
   "outputs": [
    {
     "data": {
      "image/png": "[encoded data removed]",
      "text/plain": [
       "Figure(PyObject <matplotlib.figure.Figure object at 0x121f66410>)"
      ]
     },
     "metadata": {},
     "output_type": "display_data"
    },
    {
     "data": {
      "text/plain": [
       "(0.0,12.0,0.0,1.6)"
      ]
     },
     "execution_count": 151,
     "metadata": {},
     "output_type": "execute_result"
    }
   ],
   "source": [
    "figure()\n",
    "hold(1)\n",
    "for j in 1:num_regions\n",
    "    plot(P[j][:,1], P[j][:,2], \"b.-\")\n",
    "end\n",
    "plot([getValue(v[1])], [getValue(v[2])], \"g*\", markersize=15, markerfacecolor=\"g\")\n",
    "plot([x_goal[1]], [x_goal[2]], \"r*\", markersize=15)\n",
    "axis(\"equal\")"
   ]
  },
  {
   "cell_type": "code",
   "execution_count": null,
   "metadata": {
    "collapsed": true
   },
   "outputs": [],
   "source": []
  }
 ],
 "metadata": {
  "kernelspec": {
   "display_name": "Julia 0.3.10",
   "language": "julia",
   "name": "julia-0.3"
  },
  "language_info": {
   "file_extension": ".jl",
   "mimetype": "application/julia",
   "name": "julia",
   "version": "0.3.10"
  }
 },
 "nbformat": 4,
 "nbformat_minor": 0
}
