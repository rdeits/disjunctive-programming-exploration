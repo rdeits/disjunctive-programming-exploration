{
 "cells": [
  {
   "cell_type": "markdown",
   "metadata": {},
   "source": [
    "# Disjunctive Programming\n",
    "Let's compare two different approaches to disjunctive programming: Big-M and convex hull. "
   ]
  },
  {
   "cell_type": "markdown",
   "metadata": {},
   "source": [
    "## A simple problem\n",
    "minimize $ x^\\top Q x + q^\\top x $\n",
    "\n",
    "subject to:\n",
    "$$\n",
    "\\begin{aligned}\n",
    "x \\in R_1 \\cup R_2\\\\\n",
    "x_{lb} \\leq x \\leq x_{ub}\n",
    "\\end{aligned}\n",
    "$$\n",
    "\n",
    "where $R_i$ is a polyhedron specified by\n",
    "$$\n",
    "R_i \\equiv \\{ x\\  |\\  A_i x \\leq b_i \\}\n",
    "$$"
   ]
  },
  {
   "cell_type": "markdown",
   "metadata": {},
   "source": [
    "## Binary variables\n",
    "We'll rewrite the above problem by introducing binary variables $z_i$:\n",
    "\n",
    "minimize $ x^\\top Q x + q^\\top x $\n",
    "\n",
    "over $x$, $z_i$\n",
    "\n",
    "subject to:\n",
    "$$\n",
    "\\begin{aligned}\n",
    "z_1 = 1 \\implies x \\in R_1\\\\\n",
    "z_2 = 1 \\implies x \\in R_2\\\\\n",
    "z_i \\in \\{0, 1\\}\\\\\n",
    "\\sum_i z_i = 1\\\\\n",
    "x_{lb} \\leq x \\leq x_{ub}\n",
    "\\end{aligned}\n",
    "$$\n"
   ]
  },
  {
   "cell_type": "markdown",
   "metadata": {},
   "source": [
    "## Big-M\n",
    "The big-M formulation lets us convert the implies operators into linear constraints:\n",
    "\n",
    "$$\n",
    "z_i = 1 \\implies x \\in R_i\n",
    "$$\n",
    "\n",
    "becomes\n",
    "\n",
    "$$\n",
    "A_i x + M z_i \\leq b_i + M\n",
    "$$\n",
    "\n",
    "If M is sufficiently big, then when $z_i$ is $0$, the constraint becomes trivial, and when $z_i$ is $1$, the constraint becomes exactly $x \\in R_1$. \n"
   ]
  },
  {
   "cell_type": "markdown",
   "metadata": {},
   "source": [
    "# Implementation\n",
    "## Generating regions\n",
    "We'll generate the regions as the convex hull of some random points:"
   ]
  },
  {
   "cell_type": "code",
   "execution_count": 1,
   "metadata": {
    "collapsed": false
   },
   "outputs": [],
   "source": [
    "# To install the QHull package, run:\n",
    "# Pkg.clone(\"git@github.com:davidavdav/QHull.jl\")\n",
    "using QHull"
   ]
  },
  {
   "cell_type": "code",
   "execution_count": 2,
   "metadata": {
    "collapsed": false
   },
   "outputs": [
    {
     "ename": "LoadError",
     "evalue": "UndefVarError: dim not defined",
     "output_type": "error",
     "traceback": [
      "UndefVarError: dim not defined",
      ""
     ]
    }
   ],
   "source": [
    "P_unordered = rand(4, dim) .+ [1 0]"
   ]
  },
  {
   "cell_type": "code",
   "execution_count": 3,
   "metadata": {
    "collapsed": false
   },
   "outputs": [
    {
     "ename": "LoadError",
     "evalue": "UndefVarError: P_unordered not defined",
     "output_type": "error",
     "traceback": [
      "UndefVarError: P_unordered not defined",
      ""
     ]
    }
   ],
   "source": [
    "hull = chull(P_unordered)"
   ]
  },
  {
   "cell_type": "code",
   "execution_count": 4,
   "metadata": {
    "collapsed": false
   },
   "outputs": [
    {
     "ename": "LoadError",
     "evalue": "UndefVarError: P_unordered not defined",
     "output_type": "error",
     "traceback": [
      "UndefVarError: P_unordered not defined",
      ""
     ]
    }
   ],
   "source": [
    "P_unordered[hull.vertices, :]"
   ]
  },
  {
   "cell_type": "code",
   "execution_count": 5,
   "metadata": {
    "collapsed": false
   },
   "outputs": [
    {
     "data": {
      "text/plain": [
       "hull_points (generic function with 1 method)"
      ]
     },
     "execution_count": 5,
     "metadata": {},
     "output_type": "execute_result"
    }
   ],
   "source": [
    "function hull_points(P::Array{Float64,2})\n",
    "    hull = chull(P)\n",
    "    P[[hull.vertices..., hull.vertices[1]], :]\n",
    "#     hull_pts = Array(Float64, size(hull.vertices, 1) + 1, size(P, 2))\n",
    "#     line_segments = Dict{Int64,Int64}()\n",
    "#     for i in 1:size(hull.vertices, 1)\n",
    "#         line_segments[hull.vertices[i,1]] = hull.vertices[i,2]\n",
    "#     end\n",
    "#     start = hull.vertices[1,1]\n",
    "#     hull_pts[1,:] = P[start,:]\n",
    "#     for i = 1:size(hull.vertices, 1)\n",
    "#         start = line_segments[start]\n",
    "#         hull_pts[i+1,:] = P[start,:]\n",
    "#     end\n",
    "#     return hull_pts\n",
    "end\n",
    "    "
   ]
  },
  {
   "cell_type": "code",
   "execution_count": 6,
   "metadata": {
    "collapsed": false
   },
   "outputs": [
    {
     "data": {
      "text/plain": [
       "2-element Array{Float64,1}:\n",
       " 2.0\n",
       " 1.5"
      ]
     },
     "execution_count": 6,
     "metadata": {},
     "output_type": "execute_result"
    }
   ],
   "source": [
    "dim = 2\n",
    "num_regions = 2\n",
    "P = Array{Float64,2}[]\n",
    "A = Array{Float64,2}[]\n",
    "b = Array{Float64,1}[]\n",
    "R = [0 1; -1 0]\n",
    "\n",
    "for j in 1:num_regions\n",
    "    P_unordered = rand(4, dim) .+ [j 0]\n",
    "    push!(P, hull_points(P_unordered))\n",
    "    push!(A, Array{Float64}(size(P[j], 1) - 1, size(P[j], 2)))\n",
    "    push!(b, Array{Float64}(size(A[j], 1)))\n",
    "    for i in 1:(size(P[j], 1) - 1)\n",
    "        v = P[j][i+1, :] - P[j][i, :]\n",
    "        \n",
    "        A[j][i,:] = (R * v)\n",
    "        A[j][i,:] = A[j][i,:] ./ norm(A[j][i,:])\n",
    "        b[j][i] = dot(A[j][i,:], P[j][i,:])\n",
    "    end\n",
    "end\n",
    "x_lb = 0\n",
    "x_ub = num_regions + 2\n",
    "x_goal = [num_regions / 2 + 1; 1.5]"
   ]
  },
  {
   "cell_type": "code",
   "execution_count": 7,
   "metadata": {
    "collapsed": false
   },
   "outputs": [],
   "source": [
    "using JuMP\n",
    "using Gurobi"
   ]
  },
  {
   "cell_type": "code",
   "execution_count": 8,
   "metadata": {
    "collapsed": false
   },
   "outputs": [
    {
     "data": {
      "text/latex": [
       "$$ \\begin{alignat*}{1}\\min\\quad & 0\\\\\n",
       "\\text{Subject to} \\quad\\end{alignat*}\n",
       " $$"
      ],
      "text/plain": [
       "Feasibility problem with:\n",
       " * 0 linear constraints\n",
       " * 0 variables\n",
       "Solver is Gurobi"
      ]
     },
     "execution_count": 8,
     "metadata": {},
     "output_type": "execute_result"
    }
   ],
   "source": [
    "bigM = Model(solver=GurobiSolver())"
   ]
  },
  {
   "cell_type": "code",
   "execution_count": 9,
   "metadata": {
    "collapsed": false
   },
   "outputs": [
    {
     "data": {
      "text/latex": [
       "$$ 0 \\leq x_{i} \\leq 4 \\quad\\forall i \\in \\{1,2\\} $$"
      ],
      "text/plain": [
       "2-element Array{JuMP.Variable,1}:\n",
       " x[1]\n",
       " x[2]"
      ]
     },
     "execution_count": 9,
     "metadata": {},
     "output_type": "execute_result"
    }
   ],
   "source": [
    "@variable(bigM, x_lb <= x[1:dim] <= x_ub)"
   ]
  },
  {
   "cell_type": "code",
   "execution_count": 10,
   "metadata": {
    "collapsed": false
   },
   "outputs": [
    {
     "data": {
      "text/latex": [
       "$$ z_{i} \\in \\{0,1\\} \\quad\\forall i \\in \\{1,2\\} $$"
      ],
      "text/plain": [
       "2-element Array{JuMP.Variable,1}:\n",
       " z[1]\n",
       " z[2]"
      ]
     },
     "execution_count": 10,
     "metadata": {},
     "output_type": "execute_result"
    }
   ],
   "source": [
    "@variable(bigM, z[1:num_regions], Bin)"
   ]
  },
  {
   "cell_type": "code",
   "execution_count": 11,
   "metadata": {
    "collapsed": false
   },
   "outputs": [
    {
     "data": {
      "text/latex": [
       "$$ z_{1} + z_{2} = 1 $$"
      ],
      "text/plain": [
       "z[1] + z[2] = 1"
      ]
     },
     "execution_count": 11,
     "metadata": {},
     "output_type": "execute_result"
    }
   ],
   "source": [
    "@constraint(bigM, sum(z) == 1)"
   ]
  },
  {
   "cell_type": "code",
   "execution_count": 12,
   "metadata": {
    "collapsed": false
   },
   "outputs": [],
   "source": [
    "M = 100\n",
    "for i in 1:num_regions\n",
    "    @constraint(bigM, A[i] * x .+ M * z[i] .<= b[i] .+ M)\n",
    "end\n"
   ]
  },
  {
   "cell_type": "code",
   "execution_count": 13,
   "metadata": {
    "collapsed": false
   },
   "outputs": [
    {
     "data": {
      "text/plain": [
       ":Min"
      ]
     },
     "execution_count": 13,
     "metadata": {},
     "output_type": "execute_result"
    }
   ],
   "source": [
    "@objective(bigM, Min, sum((x - x_goal).^2))"
   ]
  },
  {
   "cell_type": "code",
   "execution_count": 14,
   "metadata": {
    "collapsed": false
   },
   "outputs": [
    {
     "data": {
      "text/latex": [
       "$$ \\begin{alignat*}{1}\\min\\quad & x_{1}^2 + x_{2}^2 - 4 x_{1} - 3 x_{2} + 6.25\\\\\n",
       "\\text{Subject to} \\quad & z_{1} + z_{2} = 1\\\\\n",
       " & -0.7565488752548214 x_{1} - 0.6539371524471329 x_{2} + 100 z_{1} \\leq 98.71379958239122\\\\\n",
       " & 0.9969267624166174 x_{1} - 0.07833920077152565 x_{2} + 100 z_{1} \\leq 101.59544541389245\\\\\n",
       " & 0.998985226171816 x_{1} + 0.04503907071028132 x_{2} + 100 z_{1} \\leq 101.69470008431827\\\\\n",
       " & -0.5806242177567759 x_{1} + 0.8141716758487317 x_{2} + 100 z_{1} \\leq 99.84676525093045\\\\\n",
       " & -0.775468937103798 x_{1} - 0.6313857201323969 x_{2} + 100 z_{2} \\leq 97.73788931970195\\\\\n",
       " & 0.42786550564135206 x_{1} - 0.9038424138544673 x_{2} + 100 z_{2} \\leq 100.58436793307456\\\\\n",
       " & 0.699047298220786 x_{1} + 0.7150754329790804 x_{2} + 100 z_{2} \\leq 102.56209240188856\\\\\n",
       " & -0.012411306672329547 x_{1} + 0.9999229767670534 x_{2} + 100 z_{2} \\leq 100.91944365263957\\\\\n",
       " & 0 \\leq x_{i} \\leq 4 \\quad\\forall i \\in \\{1,2\\}\\\\\n",
       " & z_{i} \\in \\{0,1\\} \\quad\\forall i \\in \\{1,2\\}\\\\\n",
       "\\end{alignat*}\n",
       " $$"
      ],
      "text/plain": [
       "Minimization problem with:\n",
       " * 9 linear constraints\n",
       " * 4 variables: 2 binary\n",
       "Solver is Gurobi"
      ]
     },
     "execution_count": 14,
     "metadata": {},
     "output_type": "execute_result"
    }
   ],
   "source": [
    "bigM"
   ]
  },
  {
   "cell_type": "code",
   "execution_count": 15,
   "metadata": {
    "collapsed": false
   },
   "outputs": [
    {
     "name": "stdout",
     "output_type": "stream",
     "text": [
      "Optimize a model with 9 rows, 4 columns and 26 nonzeros\n",
      "Model has 2 quadratic objective terms\n",
      "Variable types: 2 continuous, 2 integer (2 binary)\n",
      "Coefficient statistics:\n",
      "  Matrix range     [1e-02, 1e+02]\n",
      "  Objective range  [3e+00, 4e+00]\n",
      "  QObjective range [2e+00, 2e+00]\n",
      "  Bounds range     [1e+00, 4e+00]\n",
      "  RHS range        [1e+00, 1e+02]\n",
      "Presolve removed 1 rows and 1 columns\n",
      "Presolve time: 0.00s\n",
      "Presolved: 8 rows, 3 columns, 24 nonzeros\n",
      "Presolved model has 2 quadratic objective terms\n",
      "Variable types: 2 continuous, 1 integer (1 binary)\n",
      "\n",
      "Root relaxation: objective -5.999421e+00, 7 iterations, 0.00 seconds\n",
      "\n",
      "    Nodes    |    Current Node    |     Objective Bounds      |     Work\n",
      " Expl Unexpl |  Obj  Depth IntInf | Incumbent    BestBd   Gap | It/Node Time\n",
      "\n",
      "     0     0   -5.99942    0    1          -   -5.99942      -     -    0s\n",
      "H    0     0                      -5.8684165   -5.99942  2.23%     -    0s\n",
      "H    0     0                      -5.9217332   -5.99942  1.31%     -    0s\n",
      "     0     0   -5.99242    0    1   -5.92173   -5.99242  1.19%     -    0s\n",
      "     0     0     cutoff    0        -5.92173   -5.92173  0.00%     -    0s\n",
      "\n",
      "Cutting planes:\n",
      "  MIR: 2\n",
      "\n",
      "Explored 0 nodes (15 simplex iterations) in 0.00 seconds\n",
      "Thread count was 12 (of 12 available processors)\n",
      "\n",
      "Solution count 2: -5.92173 -5.86842 \n",
      "Pool objective bound -5.92173\n",
      "\n",
      "Optimal solution found (tolerance 1.00e-04)\n",
      "Best objective -5.921733207590e+00, best bound -5.921733207590e+00, gap 0.0000%\n"
     ]
    }
   ],
   "source": [
    "status = solve(bigM)"
   ]
  },
  {
   "cell_type": "code",
   "execution_count": 16,
   "metadata": {
    "collapsed": false
   },
   "outputs": [],
   "source": [
    "using PyPlot"
   ]
  },
  {
   "cell_type": "code",
   "execution_count": 17,
   "metadata": {
    "collapsed": false
   },
   "outputs": [
    {
     "data": {
      "image/png": "[encoded data removed]",
      "text/plain": [
       "PyPlot.Figure(PyObject <matplotlib.figure.Figure object at 0x7f1274036b10>)"
      ]
     },
     "metadata": {},
     "output_type": "display_data"
    },
    {
     "data": {
      "text/plain": [
       "(1.0,3.0,0.0,1.6)"
      ]
     },
     "execution_count": 17,
     "metadata": {},
     "output_type": "execute_result"
    }
   ],
   "source": [
    "figure()\n",
    "hold(1)\n",
    "for j in 1:num_regions\n",
    "    plot(P[j][:,1], P[j][:,2], \"b.-\")\n",
    "end\n",
    "plot([getvalue(x[1])], [getvalue(x[2])], \"g*\", markersize=15, markerfacecolor=\"g\")\n",
    "plot([x_goal[1]], [x_goal[2]], \"r*\", markersize=15)\n",
    "axis(\"equal\")"
   ]
  },
  {
   "cell_type": "markdown",
   "metadata": {},
   "source": [
    "## Convex Hull formulation\n",
    "minimize $ x^\\top Q x + q^\\top x $\n",
    "\n",
    "subject to:\n",
    "$$\n",
    "\\begin{aligned}\n",
    "v &= u_1 + u_2\\\\\n",
    "A_1 u_1 &\\leq y_1 b_1\\\\\n",
    "A_2 u_2 &\\leq y_2 b_2\\\\\n",
    "y_1 x_{lb} &\\leq u_1 \\leq y_1 x_{ub}\\\\\n",
    "y_2 x_{lb} &\\leq u_2 \\leq y_2 x_{ub}\\\\\n",
    "y_i &\\in \\{0, 1\\}\n",
    "\\end{aligned}\n",
    "$$\n",
    "\n",
    "where $R_i$ is a polyhedron specified by\n",
    "$$\n",
    "R_i \\equiv \\{ x\\  |\\  A_i x \\leq b_i \\}\n",
    "$$\n",
    "\n",
    "\n"
   ]
  },
  {
   "cell_type": "code",
   "execution_count": 18,
   "metadata": {
    "collapsed": false
   },
   "outputs": [
    {
     "data": {
      "text/latex": [
       "$$ \\begin{alignat*}{1}\\min\\quad & 0\\\\\n",
       "\\text{Subject to} \\quad\\end{alignat*}\n",
       " $$"
      ],
      "text/plain": [
       "Feasibility problem with:\n",
       " * 0 linear constraints\n",
       " * 0 variables\n",
       "Solver is Gurobi"
      ]
     },
     "execution_count": 18,
     "metadata": {},
     "output_type": "execute_result"
    }
   ],
   "source": [
    "conv = Model(solver=GurobiSolver())"
   ]
  },
  {
   "cell_type": "code",
   "execution_count": 19,
   "metadata": {
    "collapsed": false
   },
   "outputs": [
    {
     "data": {
      "text/latex": [
       "$$ v_{i} free \\quad\\forall i \\in \\{1,2\\} $$"
      ],
      "text/plain": [
       "2-element Array{JuMP.Variable,1}:\n",
       " v[1]\n",
       " v[2]"
      ]
     },
     "execution_count": 19,
     "metadata": {},
     "output_type": "execute_result"
    }
   ],
   "source": [
    "@variable(conv, v[1:dim])"
   ]
  },
  {
   "cell_type": "code",
   "execution_count": 20,
   "metadata": {
    "collapsed": false
   },
   "outputs": [
    {
     "data": {
      "text/latex": [
       "$$ u_{i,j} free \\quad\\forall i \\in \\{1,2\\}, j \\in \\{1,2\\} $$"
      ],
      "text/plain": [
       "2×2 Array{JuMP.Variable,2}:\n",
       " u[1,1]  u[1,2]\n",
       " u[2,1]  u[2,2]"
      ]
     },
     "execution_count": 20,
     "metadata": {},
     "output_type": "execute_result"
    }
   ],
   "source": [
    "@variable(conv, u[1:num_regions, 1:dim])"
   ]
  },
  {
   "cell_type": "code",
   "execution_count": 21,
   "metadata": {
    "collapsed": false
   },
   "outputs": [
    {
     "data": {
      "text/latex": [
       "$$ y_{i} \\in \\{0,1\\} \\quad\\forall i \\in \\{1,2\\} $$"
      ],
      "text/plain": [
       "2-element Array{JuMP.Variable,1}:\n",
       " y[1]\n",
       " y[2]"
      ]
     },
     "execution_count": 21,
     "metadata": {},
     "output_type": "execute_result"
    }
   ],
   "source": [
    "@variable(conv, y[1:num_regions], Bin)"
   ]
  },
  {
   "cell_type": "code",
   "execution_count": 22,
   "metadata": {
    "collapsed": false
   },
   "outputs": [
    {
     "data": {
      "text/latex": [
       "$$ y_{1} + y_{2} = 1 $$"
      ],
      "text/plain": [
       "y[1] + y[2] = 1"
      ]
     },
     "execution_count": 22,
     "metadata": {},
     "output_type": "execute_result"
    }
   ],
   "source": [
    "@constraint(conv, sum(y) == 1)"
   ]
  },
  {
   "cell_type": "code",
   "execution_count": 23,
   "metadata": {
    "collapsed": false
   },
   "outputs": [],
   "source": [
    "for i in 1:num_regions\n",
    "    @constraint(conv, A[i] * u[i,:] .<= y[i] .* b[i])\n",
    "end"
   ]
  },
  {
   "cell_type": "code",
   "execution_count": 24,
   "metadata": {
    "collapsed": false
   },
   "outputs": [],
   "source": [
    "for i in 1:num_regions\n",
    "    @constraint(conv, y[i] * x_lb .<= u[i,:])\n",
    "    @constraint(conv, u[i,:] .<= y[i] * x_ub)\n",
    "end"
   ]
  },
  {
   "cell_type": "code",
   "execution_count": 25,
   "metadata": {
    "collapsed": false
   },
   "outputs": [
    {
     "data": {
      "text/plain": [
       "2-element Array{JuMP.ConstraintRef{JuMP.Model,JuMP.GenericRangeConstraint{JuMP.GenericAffExpr{Float64,JuMP.Variable}}},1}:\n",
       " v[1] - u[1,1] - u[2,1] = 0\n",
       " v[2] - u[1,2] - u[2,2] = 0"
      ]
     },
     "execution_count": 25,
     "metadata": {},
     "output_type": "execute_result"
    }
   ],
   "source": [
    "@constraint(conv, v .== sum(u[i, :] for i=1:num_regions))"
   ]
  },
  {
   "cell_type": "code",
   "execution_count": 26,
   "metadata": {
    "collapsed": false
   },
   "outputs": [
    {
     "data": {
      "text/plain": [
       ":Min"
      ]
     },
     "execution_count": 26,
     "metadata": {},
     "output_type": "execute_result"
    }
   ],
   "source": [
    "@objective(conv, Min, sum((v - x_goal).^2))"
   ]
  },
  {
   "cell_type": "code",
   "execution_count": 27,
   "metadata": {
    "collapsed": false
   },
   "outputs": [
    {
     "data": {
      "text/latex": [
       "$$ \\begin{alignat*}{1}\\min\\quad & v_{1}^2 + v_{2}^2 - 4 v_{1} - 3 v_{2} + 6.25\\\\\n",
       "\\text{Subject to} \\quad & y_{1} + y_{2} = 1\\\\\n",
       " & -0.7565488752548214 u_{1,1} - 0.6539371524471329 u_{1,2} + 1.2862004176087842 y_{1} \\leq 0\\\\\n",
       " & 0.9969267624166174 u_{1,1} - 0.07833920077152565 u_{1,2} - 1.5954454138924437 y_{1} \\leq 0\\\\\n",
       " & 0.998985226171816 u_{1,1} + 0.04503907071028132 u_{1,2} - 1.6947000843182753 y_{1} \\leq 0\\\\\n",
       " & -0.5806242177567759 u_{1,1} + 0.8141716758487317 u_{1,2} + 0.1532347490695597 y_{1} \\leq 0\\\\\n",
       " & -0.775468937103798 u_{2,1} - 0.6313857201323969 u_{2,2} + 2.262110680298054 y_{2} \\leq 0\\\\\n",
       " & 0.42786550564135206 u_{2,1} - 0.9038424138544673 u_{2,2} - 0.5843679330745568 y_{2} \\leq 0\\\\\n",
       " & 0.699047298220786 u_{2,1} + 0.7150754329790804 u_{2,2} - 2.5620924018885605 y_{2} \\leq 0\\\\\n",
       " & -0.012411306672329547 u_{2,1} + 0.9999229767670534 u_{2,2} - 0.9194436526395712 y_{2} \\leq 0\\\\\n",
       " & -u_{1,1} \\leq 0\\\\\n",
       " & -u_{1,2} \\leq 0\\\\\n",
       " & u_{1,1} - 4 y_{1} \\leq 0\\\\\n",
       " & u_{1,2} - 4 y_{1} \\leq 0\\\\\n",
       " & -u_{2,1} \\leq 0\\\\\n",
       " & -u_{2,2} \\leq 0\\\\\n",
       " & u_{2,1} - 4 y_{2} \\leq 0\\\\\n",
       " & u_{2,2} - 4 y_{2} \\leq 0\\\\\n",
       " & v_{1} - u_{1,1} - u_{2,1} = 0\\\\\n",
       " & v_{2} - u_{1,2} - u_{2,2} = 0\\\\\n",
       " & v_{i} free \\quad\\forall i \\in \\{1,2\\}\\\\\n",
       " & u_{i,j} free \\quad\\forall i \\in \\{1,2\\}, j \\in \\{1,2\\}\\\\\n",
       " & y_{i} \\in \\{0,1\\} \\quad\\forall i \\in \\{1,2\\}\\\\\n",
       "\\end{alignat*}\n",
       " $$"
      ],
      "text/plain": [
       "Minimization problem with:\n",
       " * 19 linear constraints\n",
       " * 8 variables: 2 binary\n",
       "Solver is Gurobi"
      ]
     },
     "execution_count": 27,
     "metadata": {},
     "output_type": "execute_result"
    }
   ],
   "source": [
    "conv"
   ]
  },
  {
   "cell_type": "code",
   "execution_count": 28,
   "metadata": {
    "collapsed": false
   },
   "outputs": [
    {
     "name": "stdout",
     "output_type": "stream",
     "text": [
      "Optimize a model with 19 rows, 8 columns and 44 nonzeros\n",
      "Model has 2 quadratic objective terms\n",
      "Variable types: 6 continuous, 2 integer (2 binary)\n",
      "Coefficient statistics:\n",
      "  Matrix range     [1e-02, 4e+00]\n",
      "  Objective range  [3e+00, 4e+00]\n",
      "  QObjective range [2e+00, 2e+00]\n",
      "  Bounds range     [1e+00, 1e+00]\n",
      "  RHS range        [1e+00, 1e+00]\n",
      "Presolve removed 6 rows and 1 columns\n",
      "Presolve time: 0.00s\n",
      "Presolved: 13 rows, 7 columns, 36 nonzeros\n",
      "Presolved model has 2 quadratic objective terms\n",
      "Variable types: 6 continuous, 1 integer (1 binary)\n",
      "\n",
      "Root relaxation: objective -5.977242e+00, 23 iterations, 0.00 seconds\n",
      "\n",
      "    Nodes    |    Current Node    |     Objective Bounds      |     Work\n",
      " Expl Unexpl |  Obj  Depth IntInf | Incumbent    BestBd   Gap | It/Node Time\n",
      "\n",
      "     0     0   -5.97724    0    1          -   -5.97724      -     -    0s\n",
      "H    0     0                      -5.9217332   -5.97724  0.94%     -    0s\n",
      "\n",
      "Explored 0 nodes (23 simplex iterations) in 0.00 seconds\n",
      "Thread count was 12 (of 12 available processors)\n",
      "\n",
      "Solution count 1: -5.92173 \n",
      "Pool objective bound -5.92173\n",
      "\n",
      "Optimal solution found (tolerance 1.00e-04)\n",
      "Best objective -5.921733207590e+00, best bound -5.921733207590e+00, gap 0.0000%\n"
     ]
    },
    {
     "data": {
      "text/plain": [
       ":Optimal"
      ]
     },
     "execution_count": 28,
     "metadata": {},
     "output_type": "execute_result"
    }
   ],
   "source": [
    "status = solve(conv)"
   ]
  },
  {
   "cell_type": "code",
   "execution_count": 29,
   "metadata": {
    "collapsed": false
   },
   "outputs": [
    {
     "data": {
      "image/png": "[encoded data removed]",
      "text/plain": [
       "PyPlot.Figure(PyObject <matplotlib.figure.Figure object at 0x7f1269dabbd0>)"
      ]
     },
     "metadata": {},
     "output_type": "display_data"
    },
    {
     "data": {
      "text/plain": [
       "(1.0,3.0,0.0,1.6)"
      ]
     },
     "execution_count": 29,
     "metadata": {},
     "output_type": "execute_result"
    }
   ],
   "source": [
    "figure()\n",
    "hold(1)\n",
    "for j in 1:num_regions\n",
    "    plot(P[j][:,1], P[j][:,2], \"b.-\")\n",
    "end\n",
    "plot([getvalue(v[1])], [getvalue(v[2])], \"g*\", markersize=15, markerfacecolor=\"g\")\n",
    "plot([x_goal[1]], [x_goal[2]], \"r*\", markersize=15)\n",
    "axis(\"equal\")"
   ]
  }
 ],
 "metadata": {
  "kernelspec": {
   "display_name": "Julia 0.5.0",
   "language": "julia",
   "name": "julia-0.5"
  },
  "language_info": {
   "file_extension": ".jl",
   "mimetype": "application/julia",
   "name": "julia",
   "version": "0.5.0"
  }
 },
 "nbformat": 4,
 "nbformat_minor": 0
}
