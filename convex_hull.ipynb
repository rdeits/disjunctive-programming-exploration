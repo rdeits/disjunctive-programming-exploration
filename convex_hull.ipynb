{
 "cells": [
  {
   "cell_type": "markdown",
   "metadata": {},
   "source": [
    "# Disjunctive Programming\n",
    "Let's compare two different approaches to disjunctive programming: Big-M and convex hull. "
   ]
  },
  {
   "cell_type": "markdown",
   "metadata": {},
   "source": [
    "## A simple problem\n",
    "minimize $ x^\\top Q x + q^\\top x $\n",
    "\n",
    "subject to:\n",
    "$$\n",
    "\\begin{aligned}\n",
    "x \\in R_1 \\cup R_2\\\\\n",
    "x_{lb} \\leq x \\leq x_{ub}\n",
    "\\end{aligned}\n",
    "$$\n",
    "\n",
    "where $R_i$ is a polyhedron specified by\n",
    "$$\n",
    "R_i \\equiv \\{ x\\  |\\  A_i x \\leq b_i \\}\n",
    "$$"
   ]
  },
  {
   "cell_type": "markdown",
   "metadata": {},
   "source": [
    "## Binary variables\n",
    "We'll rewrite the above problem by introducing binary variables $z_i$:\n",
    "\n",
    "minimize $ x^\\top Q x + q^\\top x $\n",
    "\n",
    "over $x$, $z_i$\n",
    "\n",
    "subject to:\n",
    "$$\n",
    "\\begin{aligned}\n",
    "z_1 = 1 \\implies x \\in R_1\\\\\n",
    "z_2 = 1 \\implies x \\in R_2\\\\\n",
    "z_i \\in \\{0, 1\\}\\\\\n",
    "\\sum_i z_i = 1\\\\\n",
    "x_{lb} \\leq x \\leq x_{ub}\n",
    "\\end{aligned}\n",
    "$$\n"
   ]
  },
  {
   "cell_type": "markdown",
   "metadata": {},
   "source": [
    "## Big-M\n",
    "The big-M formulation lets us convert the implies operators into linear constraints:\n",
    "\n",
    "$$\n",
    "z_i = 1 \\implies x \\in R_i\n",
    "$$\n",
    "\n",
    "becomes\n",
    "\n",
    "$$\n",
    "A_i x + M z_i \\leq b_i + M\n",
    "$$\n",
    "\n",
    "If M is sufficiently big, then when $z_i$ is $0$, the constraint becomes trivial, and when $z_i$ is $1$, the constraint becomes exactly $x \\in R_1$. \n"
   ]
  },
  {
   "cell_type": "markdown",
   "metadata": {},
   "source": [
    "# Implementation\n",
    "## Generating regions\n",
    "We'll generate the regions as the convex hull of some random points:"
   ]
  },
  {
   "cell_type": "code",
   "execution_count": 170,
   "metadata": {
    "collapsed": false
   },
   "outputs": [],
   "source": [
    "using CHull"
   ]
  },
  {
   "cell_type": "code",
   "execution_count": 171,
   "metadata": {
    "collapsed": false
   },
   "outputs": [
    {
     "data": {
      "text/plain": [
       "hull_points (generic function with 1 method)"
      ]
     },
     "execution_count": 171,
     "metadata": {},
     "output_type": "execute_result"
    }
   ],
   "source": [
    "function hull_points(P::Array{Float64,2})\n",
    "    hull = chull(P)\n",
    "    hull_pts = Array(Float64, size(hull.vertices, 1) + 1, size(P, 2))\n",
    "    line_segments = Dict{Int64,Int64}()\n",
    "    for i in 1:size(hull.vertices, 1)\n",
    "        line_segments[hull.vertices[i,1]] = hull.vertices[i,2]\n",
    "    end\n",
    "    start = hull.vertices[1,1]\n",
    "    hull_pts[1,:] = P[start,:]\n",
    "    for i = 1:size(hull.vertices, 1)\n",
    "        start = line_segments[start]\n",
    "        hull_pts[i+1,:] = P[start,:]\n",
    "    end\n",
    "    return hull_pts\n",
    "end\n",
    "    "
   ]
  },
  {
   "cell_type": "code",
   "execution_count": 172,
   "metadata": {
    "collapsed": false
   },
   "outputs": [
    {
     "data": {
      "text/plain": [
       "4"
      ]
     },
     "execution_count": 172,
     "metadata": {},
     "output_type": "execute_result"
    }
   ],
   "source": [
    "dim = 2\n",
    "num_regions = 2\n",
    "P = Array{Float64,2}[]\n",
    "A = Array{Float64,2}[]\n",
    "b = Array{Float64,2}[]\n",
    "R = [0 1; -1 0]\n",
    "\n",
    "for j in 1:num_regions\n",
    "    P_unordered = rand(4, dim) .+ [j 0]\n",
    "    push!(P, hull_points(P_unordered))\n",
    "    push!(A, Array(Float64, size(P[j], 1) - 1, size(P[j])[2]))\n",
    "    push!(b, Array(Float64, size(A[j], 1), 1))\n",
    "    for i in 1:size(P[j], 1)-1\n",
    "        v = P[j][i+1, :] - P[j][i, :]\n",
    "        \n",
    "        A[j][i,:] = (R * v.')\n",
    "        A[j][i,:] = A[j][i,:] ./ norm(A[j][i,:])\n",
    "        b[j][i,:] = (A[j][i,:] * P[j][i,:].')\n",
    "    end\n",
    "end\n",
    "x_lb = 0\n",
    "x_ub = 4"
   ]
  },
  {
   "cell_type": "code",
   "execution_count": 173,
   "metadata": {
    "collapsed": true
   },
   "outputs": [],
   "source": [
    "using JuMP"
   ]
  },
  {
   "cell_type": "code",
   "execution_count": 174,
   "metadata": {
    "collapsed": false
   },
   "outputs": [
    {
     "data": {
      "text/latex": [
       "$$ \\begin{alignat*}{1}\\min\\quad & 0\\\\\n",
       "\\text{Subject to} \\quad\\end{alignat*}\n",
       " $$"
      ],
      "text/plain": [
       "Feasibility problem with:\n",
       " * 0 linear constraints\n",
       " * 0 variables\n",
       "Solver set to Default"
      ]
     },
     "execution_count": 174,
     "metadata": {},
     "output_type": "execute_result"
    }
   ],
   "source": [
    "bigM = Model()"
   ]
  },
  {
   "cell_type": "code",
   "execution_count": 175,
   "metadata": {
    "collapsed": false
   },
   "outputs": [
    {
     "data": {
      "text/latex": [
       "$$ x_{i} free \\quad\\forall i \\in \\{1,2\\} $$"
      ],
      "text/plain": [
       "2-element Array{Variable,1}:\n",
       " x[1]\n",
       " x[2]"
      ]
     },
     "execution_count": 175,
     "metadata": {},
     "output_type": "execute_result"
    }
   ],
   "source": [
    "@defVar(bigM, x[1:dim])"
   ]
  },
  {
   "cell_type": "code",
   "execution_count": 176,
   "metadata": {
    "collapsed": false
   },
   "outputs": [
    {
     "data": {
      "text/latex": [
       "$$ z_{i} \\in \\{0,1\\} \\quad\\forall i \\in \\{1,2\\} $$"
      ],
      "text/plain": [
       "2-element Array{Variable,1}:\n",
       " z[1]\n",
       " z[2]"
      ]
     },
     "execution_count": 176,
     "metadata": {},
     "output_type": "execute_result"
    }
   ],
   "source": [
    "@defVar(bigM, z[1:num_regions], Bin)"
   ]
  },
  {
   "cell_type": "code",
   "execution_count": 177,
   "metadata": {
    "collapsed": false
   },
   "outputs": [
    {
     "data": {
      "text/latex": [
       "$$ z_{1} + z_{2} = 1 $$"
      ],
      "text/plain": [
       "z[1] + z[2] = 1"
      ]
     },
     "execution_count": 177,
     "metadata": {},
     "output_type": "execute_result"
    }
   ],
   "source": [
    "@addConstraint(bigM, sum(z) == 1)"
   ]
  },
  {
   "cell_type": "code",
   "execution_count": 178,
   "metadata": {
    "collapsed": false
   },
   "outputs": [],
   "source": [
    "M = 100\n",
    "for i in 1:num_regions\n",
    "    @addConstraint(bigM, A[i] * x .+ M * z[i] .<= b[i] .+ M)\n",
    "end\n"
   ]
  },
  {
   "cell_type": "code",
   "execution_count": 179,
   "metadata": {
    "collapsed": false
   },
   "outputs": [
    {
     "data": {
      "text/plain": [
       "2-element Array{ConstraintRef{GenericRangeConstraint{GenericAffExpr{Float64,Variable}}},1}:\n",
       " x[1] ≤ 4\n",
       " x[2] ≤ 4"
      ]
     },
     "execution_count": 179,
     "metadata": {},
     "output_type": "execute_result"
    }
   ],
   "source": [
    "@addConstraint(bigM, x_lb .<= x)\n",
    "@addConstraint(bigM, x .<= x_ub)"
   ]
  },
  {
   "cell_type": "code",
   "execution_count": 180,
   "metadata": {
    "collapsed": false
   },
   "outputs": [
    {
     "data": {
      "text/plain": [
       ":Min"
      ]
     },
     "execution_count": 180,
     "metadata": {},
     "output_type": "execute_result"
    }
   ],
   "source": [
    "@setObjective(bigM, Min, sum((x - [2; 1.5]).^2))"
   ]
  },
  {
   "cell_type": "code",
   "execution_count": 181,
   "metadata": {
    "collapsed": false
   },
   "outputs": [
    {
     "data": {
      "text/latex": [
       "$$ \\begin{alignat*}{1}\\min\\quad & x_{1}^2 + x_{2}^2 - 4 x_{1} - 3 x_{2} + 6.25\\\\\n",
       "\\text{Subject to} \\quad & z_{1} + z_{2} = 1\\\\\n",
       " & -0.3268315147668905 x_{1} - 0.9450826212322286 x_{2} + 100 z_{1} \\leq 98.8546465069627\\\\\n",
       " & 0.48288330857181067 x_{1} + 0.8756847094147194 x_{2} + 100 z_{1} \\leq 101.40157741098056\\\\\n",
       " & 0.3272387080762356 x_{1} + 0.944941706104983 x_{2} + 100 z_{1} \\leq 101.18857794980723\\\\\n",
       " & -0.9672746019912176 x_{1} + 0.2537318354931671 x_{2} + 100 z_{1} \\leq 99.22118672920566\\\\\n",
       " & -0.9996604736807678 x_{1} + 0.02605642646916188 x_{2} + 100 z_{2} \\leq 97.83953004244701\\\\\n",
       " & -0.016692540251397412 x_{1} - 0.9998606698435316 x_{2} + 100 z_{2} \\leq 99.93673757398165\\\\\n",
       " & 0.6357119411142924 x_{1} - 0.7719263746787631 x_{2} + 100 z_{2} \\leq 101.46152684349832\\\\\n",
       " & 0.8625968716574576 x_{1} + 0.5058919222588634 x_{2} + 100 z_{2} \\leq 102.36668739894493\\\\\n",
       " & -x_{1} \\leq 0\\\\\n",
       " & -x_{2} \\leq 0\\\\\n",
       " & x_{1} \\leq 4\\\\\n",
       " & x_{2} \\leq 4\\\\\n",
       " & x_{i} free \\quad\\forall i \\in \\{1,2\\}\\\\\n",
       " & z_{i} \\in \\{0,1\\} \\quad\\forall i \\in \\{1,2\\}\\\\\n",
       "\\end{alignat*}\n",
       " $$"
      ],
      "text/plain": [
       "Minimization problem with:\n",
       " * 13 linear constraints\n",
       " * 4 variables: 2 binary\n",
       "Solver set to Default"
      ]
     },
     "execution_count": 181,
     "metadata": {},
     "output_type": "execute_result"
    }
   ],
   "source": [
    "bigM"
   ]
  },
  {
   "cell_type": "code",
   "execution_count": 182,
   "metadata": {
    "collapsed": false
   },
   "outputs": [
    {
     "name": "stdout",
     "output_type": "stream",
     "text": [
      "Optimize a model with 13 rows, 4 columns and 30 nonzeros\n",
      "Model has 2 quadratic objective terms\n",
      "Coefficient statistics:\n",
      "  Matrix range    [2e-02, 1e+02]\n",
      "  Objective range [3e+00, 4e+00]\n",
      "  Bounds range    [1e+00, 1e+00]\n",
      "  RHS range       [1e+00, 1e+02]\n",
      "Found heuristic solution: objective -5.89846\n",
      "Presolve removed 5 rows and 1 columns\n",
      "Presolve time: 0.00s\n",
      "Presolved: 8 rows, 3 columns, 24 nonzeros\n",
      "Presolved model has 2 quadratic objective terms\n",
      "Variable types: 2 continuous, 1 integer (1 binary)\n",
      "\n",
      "Root relaxation: objective -5.992342e+00, 5 iterations, 0.00 seconds\n",
      "\n",
      "    Nodes    |    Current Node    |     Objective Bounds      |     Work\n",
      " Expl Unexpl |  Obj  Depth IntInf | Incumbent    BestBd   Gap | It/Node Time\n",
      "\n",
      "     0     0   -5.99234    0    1   -5.89846   -5.99234  1.59%     -    0s\n",
      "H    0     0                      -5.9139123   -5.99234  1.33%     -    0s\n",
      "     0     0     cutoff    0        -5.91391   -5.91391  0.00%     -    0s\n",
      "\n",
      "Explored 0 nodes (12 simplex iterations) in 0.00 seconds\n",
      "Thread count was 4 (of 8 available processors)\n",
      "\n",
      "Optimal solution found (tolerance 1.00e-04)\n",
      "Best objective -5.913912265965e+00, best bound -5.913912265965e+00, gap 0.0%\n"
     ]
    },
    {
     "data": {
      "text/plain": [
       ":Optimal"
      ]
     },
     "execution_count": 182,
     "metadata": {},
     "output_type": "execute_result"
    }
   ],
   "source": [
    "status = solve(bigM)"
   ]
  },
  {
   "cell_type": "code",
   "execution_count": 183,
   "metadata": {
    "collapsed": true
   },
   "outputs": [],
   "source": [
    "using PyPlot"
   ]
  },
  {
   "cell_type": "code",
   "execution_count": 184,
   "metadata": {
    "collapsed": false
   },
   "outputs": [
    {
     "data": {
      "image/png": "[encoded data removed]",
      "text/plain": [
       "Figure(PyObject <matplotlib.figure.Figure object at 0x11bca8290>)"
      ]
     },
     "metadata": {},
     "output_type": "display_data"
    },
    {
     "data": {
      "text/plain": [
       "1-element Array{Any,1}:\n",
       " PyObject <matplotlib.lines.Line2D object at 0x11c3697d0>"
      ]
     },
     "execution_count": 184,
     "metadata": {},
     "output_type": "execute_result"
    }
   ],
   "source": [
    "figure()\n",
    "hold(1)\n",
    "colors = [\"b\", \"r\", \"g\", \"k\"]\n",
    "for j in 1:num_regions\n",
    "#     patch(P[j][:,1], P[j][:,2], \"$(colors[j])\")\n",
    "    plot(P[j][:,1], P[j][:,2], \"$(colors[j]).-\")\n",
    "end\n",
    "plot([getValue(x[1])], [getValue(x[2])], \"g*\", markersize=15, markerfacecolor=\"g\")\n",
    "plot([2], [1.5], \"r*\", markersize=15)"
   ]
  },
  {
   "cell_type": "markdown",
   "metadata": {},
   "source": [
    "## Convex Hull formulation\n",
    "minimize $ x^\\top Q x + q^\\top x $\n",
    "\n",
    "subject to:\n",
    "$$\n",
    "\\begin{aligned}\n",
    "v &= u_1 + u_2\\\\\n",
    "A_1 u_1 &\\leq y_1 b_1\\\\\n",
    "A_2 u_2 &\\leq y_2 b_2\\\\\n",
    "y_1 x_{lb} &\\leq u_1 \\leq y_1 x_{ub}\\\\\n",
    "y_2 x_{lb} &\\leq u_2 \\leq y_2 x_{ub}\\\\\n",
    "y_i &\\in \\{0, 1\\}\n",
    "\\end{aligned}\n",
    "$$\n",
    "\n",
    "where $R_i$ is a polyhedron specified by\n",
    "$$\n",
    "R_i \\equiv \\{ x\\  |\\  A_i x \\leq b_i \\}\n",
    "$$\n",
    "\n",
    "\n"
   ]
  },
  {
   "cell_type": "code",
   "execution_count": 185,
   "metadata": {
    "collapsed": false
   },
   "outputs": [
    {
     "data": {
      "text/latex": [
       "$$ \\begin{alignat*}{1}\\min\\quad & 0\\\\\n",
       "\\text{Subject to} \\quad\\end{alignat*}\n",
       " $$"
      ],
      "text/plain": [
       "Feasibility problem with:\n",
       " * 0 linear constraints\n",
       " * 0 variables\n",
       "Solver set to Default"
      ]
     },
     "execution_count": 185,
     "metadata": {},
     "output_type": "execute_result"
    }
   ],
   "source": [
    "conv = Model()"
   ]
  },
  {
   "cell_type": "code",
   "execution_count": 186,
   "metadata": {
    "collapsed": false
   },
   "outputs": [
    {
     "data": {
      "text/latex": [
       "$$ v_{i} free \\quad\\forall i \\in \\{1,2\\} $$"
      ],
      "text/plain": [
       "2-element Array{Variable,1}:\n",
       " v[1]\n",
       " v[2]"
      ]
     },
     "execution_count": 186,
     "metadata": {},
     "output_type": "execute_result"
    }
   ],
   "source": [
    "@defVar(conv, v[1:dim])"
   ]
  },
  {
   "cell_type": "code",
   "execution_count": 187,
   "metadata": {
    "collapsed": false
   },
   "outputs": [
    {
     "data": {
      "text/latex": [
       "$$ u_{i,j} free \\quad\\forall i \\in \\{1,2\\}, j \\in \\{1,2\\} $$"
      ],
      "text/plain": [
       "2x2 Array{Variable,2}:\n",
       " u[1,1]  u[1,2]\n",
       " u[2,1]  u[2,2]"
      ]
     },
     "execution_count": 187,
     "metadata": {},
     "output_type": "execute_result"
    }
   ],
   "source": [
    "@defVar(conv, u[1:num_regions, 1:dim])"
   ]
  },
  {
   "cell_type": "code",
   "execution_count": 188,
   "metadata": {
    "collapsed": false
   },
   "outputs": [
    {
     "data": {
      "text/latex": [
       "$$ y_{i} \\in \\{0,1\\} \\quad\\forall i \\in \\{1,2\\} $$"
      ],
      "text/plain": [
       "2-element Array{Variable,1}:\n",
       " y[1]\n",
       " y[2]"
      ]
     },
     "execution_count": 188,
     "metadata": {},
     "output_type": "execute_result"
    }
   ],
   "source": [
    "@defVar(conv, y[1:num_regions], Bin)"
   ]
  },
  {
   "cell_type": "code",
   "execution_count": 189,
   "metadata": {
    "collapsed": false
   },
   "outputs": [
    {
     "data": {
      "text/latex": [
       "$$ y_{1} + y_{2} = 1 $$"
      ],
      "text/plain": [
       "y[1] + y[2] = 1"
      ]
     },
     "execution_count": 189,
     "metadata": {},
     "output_type": "execute_result"
    }
   ],
   "source": [
    "@addConstraint(conv, sum(y) == 1)"
   ]
  },
  {
   "cell_type": "code",
   "execution_count": 190,
   "metadata": {
    "collapsed": false
   },
   "outputs": [],
   "source": [
    "for i in 1:num_regions\n",
    "    @addConstraint(conv, A[i] * (u[i,:].') .<= y[i] .* b[i])\n",
    "end"
   ]
  },
  {
   "cell_type": "code",
   "execution_count": 191,
   "metadata": {
    "collapsed": false
   },
   "outputs": [],
   "source": [
    "for i in 1:num_regions\n",
    "    @addConstraint(conv, y[i] * x_lb .<= u[i,:])\n",
    "    @addConstraint(conv, u[i,:] .<= y[i] * x_ub)\n",
    "end"
   ]
  },
  {
   "cell_type": "code",
   "execution_count": 192,
   "metadata": {
    "collapsed": false
   },
   "outputs": [
    {
     "data": {
      "text/plain": [
       "2-element Array{ConstraintRef{GenericRangeConstraint{GenericAffExpr{Float64,Variable}}},1}:\n",
       " v[1] - u[1,1] - u[2,1] = 0\n",
       " v[2] - u[1,2] - u[2,2] = 0"
      ]
     },
     "execution_count": 192,
     "metadata": {},
     "output_type": "execute_result"
    }
   ],
   "source": [
    "@defExpr(sum_u, sum{u[i,:], i=1:num_regions})\n",
    "@addConstraint(conv, v .== vec(sum_u))"
   ]
  },
  {
   "cell_type": "code",
   "execution_count": 193,
   "metadata": {
    "collapsed": false
   },
   "outputs": [
    {
     "data": {
      "text/plain": [
       ":Min"
      ]
     },
     "execution_count": 193,
     "metadata": {},
     "output_type": "execute_result"
    }
   ],
   "source": [
    "@setObjective(conv, Min, sum((v - [2; 1.5]).^2))"
   ]
  },
  {
   "cell_type": "code",
   "execution_count": 194,
   "metadata": {
    "collapsed": false
   },
   "outputs": [
    {
     "name": "stdout",
     "output_type": "stream",
     "text": [
      "Optimize a model with 19 rows, 8 columns and 44 nonzeros\n",
      "Model has 2 quadratic objective terms\n",
      "Coefficient statistics:\n",
      "  Matrix range    [2e-02, 4e+00]\n",
      "  Objective range [3e+00, 4e+00]\n",
      "  Bounds range    [1e+00, 1e+00]\n",
      "  RHS range       [1e+00, 1e+00]\n",
      "Found heuristic solution: objective -5.08271\n",
      "Presolve removed 8 rows and 1 columns\n",
      "Presolve time: 0.00s\n",
      "Presolved: 11 rows, 7 columns, 32 nonzeros\n",
      "Presolved model has 2 quadratic objective terms\n",
      "Variable types: 6 continuous, 1 integer (1 binary)\n",
      "\n",
      "Root relaxation: objective -5.939575e+00, 25 iterations, 0.00 seconds\n",
      "\n",
      "    Nodes    |    Current Node    |     Objective Bounds      |     Work\n",
      " Expl Unexpl |  Obj  Depth IntInf | Incumbent    BestBd   Gap | It/Node Time\n",
      "\n",
      "     0     0   -5.93958    0    1   -5.08271   -5.93958  16.9%     -    0s\n",
      "H    0     0                      -5.9139123   -5.93958  0.43%     -    0s\n",
      "\n",
      "Explored 0 nodes (25 simplex iterations) in 0.00 seconds\n",
      "Thread count was 4 (of 8 available processors)\n",
      "\n",
      "Optimal solution found (tolerance 1.00e-04)\n",
      "Best objective -5.913912265965e+00, best bound -5.913912265965e+00, gap 0.0%\n"
     ]
    },
    {
     "data": {
      "text/plain": [
       ":Optimal"
      ]
     },
     "execution_count": 194,
     "metadata": {},
     "output_type": "execute_result"
    }
   ],
   "source": [
    "status = solve(conv)"
   ]
  },
  {
   "cell_type": "code",
   "execution_count": 195,
   "metadata": {
    "collapsed": false
   },
   "outputs": [
    {
     "data": {
      "image/png": "[encoded data removed]",
      "text/plain": [
       "Figure(PyObject <matplotlib.figure.Figure object at 0x11c394d50>)"
      ]
     },
     "metadata": {},
     "output_type": "display_data"
    },
    {
     "data": {
      "text/plain": [
       "1-element Array{Any,1}:\n",
       " PyObject <matplotlib.lines.Line2D object at 0x11681c350>"
      ]
     },
     "execution_count": 195,
     "metadata": {},
     "output_type": "execute_result"
    }
   ],
   "source": [
    "figure()\n",
    "hold(1)\n",
    "colors = [\"b\", \"r\", \"g\", \"k\"]\n",
    "for j in 1:num_regions\n",
    "#     patch(P[j][:,1], P[j][:,2], \"$(colors[j])\")\n",
    "    plot(P[j][:,1], P[j][:,2], \"$(colors[j]).-\")\n",
    "end\n",
    "plot([getValue(v[1])], [getValue(v[2])], \"g*\", markersize=15, markerfacecolor=\"g\")\n",
    "plot([2], [1.5], \"r*\", markersize=15)"
   ]
  },
  {
   "cell_type": "code",
   "execution_count": null,
   "metadata": {
    "collapsed": true
   },
   "outputs": [],
   "source": []
  }
 ],
 "metadata": {
  "kernelspec": {
   "display_name": "Julia 0.3.10",
   "language": "julia",
   "name": "julia-0.3"
  },
  "language_info": {
   "file_extension": ".jl",
   "mimetype": "application/julia",
   "name": "julia",
   "version": "0.3.10"
  }
 },
 "nbformat": 4,
 "nbformat_minor": 0
}
