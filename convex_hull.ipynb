{
 "cells": [
  {
   "cell_type": "markdown",
   "metadata": {},
   "source": [
    "# Disjunctive Programming\n",
    "Let's compare two different approaches to disjunctive programming: Big-M and convex hull. "
   ]
  },
  {
   "cell_type": "markdown",
   "metadata": {},
   "source": [
    "## A simple problem\n",
    "minimize $ x^\\top Q x + q^\\top x $\n",
    "\n",
    "subject to:\n",
    "$$\n",
    "x \\in R_1 \\cup R_2\n",
    "$$\n",
    "\n",
    "where $R_i$ is a polyhedron specified by\n",
    "$$\n",
    "R_i \\equiv \\{ x\\  |\\  A_i x \\leq b_i \\}\n",
    "$$"
   ]
  },
  {
   "cell_type": "markdown",
   "metadata": {},
   "source": [
    "## Binary variables\n",
    "We'll rewrite the above problem by introducing binary variables $z_i$:\n",
    "\n",
    "minimize $ x^\\top Q x + q^\\top x $\n",
    "\n",
    "over $x$, $z_i$\n",
    "\n",
    "subject to:\n",
    "$$\n",
    "\\begin{aligned}\n",
    "z_1 = 1 \\implies x \\in R_1\\\\\n",
    "z_2 = 1 \\implies x \\in R_2\\\\\n",
    "z_i \\in \\{0, 1\\}\\\\\n",
    "\\sum_i z_i = 1\n",
    "\\end{aligned}\n",
    "$$\n"
   ]
  },
  {
   "cell_type": "markdown",
   "metadata": {},
   "source": [
    "## Big-M\n",
    "The big-M formulation lets us convert the implies operators into linear constraints:\n",
    "\n",
    "$$\n",
    "z_i = 1 \\implies x \\in R_i\n",
    "$$\n",
    "\n",
    "becomes\n",
    "\n",
    "$$\n",
    "A_i x + M z_i \\leq b_i + M\n",
    "$$\n",
    "\n",
    "If M is sufficiently big, then when $z_i$ is $0$, the constraint becomes trivial, and when $z_i$ is $1$, the constraint becomes exactly $x \\in R_1$. \n"
   ]
  },
  {
   "cell_type": "markdown",
   "metadata": {},
   "source": [
    "# Implementation\n",
    "## Generating regions\n",
    "We'll generate the regions as the convex hull of some random points:"
   ]
  },
  {
   "cell_type": "code",
   "execution_count": 1,
   "metadata": {
    "collapsed": false
   },
   "outputs": [],
   "source": [
    "using CHull"
   ]
  },
  {
   "cell_type": "code",
   "execution_count": 27,
   "metadata": {
    "collapsed": false
   },
   "outputs": [],
   "source": [
    "dim = 2\n",
    "num_regions = 2\n",
    "P = Array{Float64,2}[]\n",
    "A = Array{Float64,2}[]\n",
    "b = Array{Float64,2}[]\n",
    "R = [0 1; -1 0]\n",
    "\n",
    "for j in 1:num_regions\n",
    "    push!(P, rand(4, dim) .+ [j 0])\n",
    "    hull = chull(P[j])\n",
    "    push!(A, Array(Float64, size(hull.vertices)[1], size(P[j])[2]))\n",
    "    push!(b, Array(Float64, size(hull.vertices, 1), 1))\n",
    "    for i in 1:size(hull.vertices, 1)\n",
    "        v = P[j][hull.vertices[i,2], :] - P[j][hull.vertices[i,1], :]\n",
    "        \n",
    "        A[j][i,:] = (R * v.')\n",
    "        A[j][i,:] = A[j][i,:] ./ norm(A[j][i,:])\n",
    "        b[j][i,:] = (A[j][i,:] * P[j][hull.vertices[i,1],:].')\n",
    "    end\n",
    "end"
   ]
  },
  {
   "cell_type": "code",
   "execution_count": 28,
   "metadata": {
    "collapsed": true
   },
   "outputs": [],
   "source": [
    "using JuMP"
   ]
  },
  {
   "cell_type": "code",
   "execution_count": 29,
   "metadata": {
    "collapsed": false
   },
   "outputs": [
    {
     "data": {
      "text/latex": [
       "$$ \\begin{alignat*}{1}\\min\\quad & 0\\\\\n",
       "\\text{Subject to} \\quad\\end{alignat*}\n",
       " $$"
      ],
      "text/plain": [
       "Feasibility problem with:\n",
       " * 0 linear constraints\n",
       " * 0 variables\n",
       "Solver set to Default"
      ]
     },
     "execution_count": 29,
     "metadata": {},
     "output_type": "execute_result"
    }
   ],
   "source": [
    "bigM = Model()"
   ]
  },
  {
   "cell_type": "code",
   "execution_count": 30,
   "metadata": {
    "collapsed": false
   },
   "outputs": [
    {
     "data": {
      "text/latex": [
       "$$ x_{i} free \\quad\\forall i \\in \\{1,2\\} $$"
      ],
      "text/plain": [
       "2-element Array{Variable,1}:\n",
       " x[1]\n",
       " x[2]"
      ]
     },
     "execution_count": 30,
     "metadata": {},
     "output_type": "execute_result"
    }
   ],
   "source": [
    "@defVar(bigM, x[1:dim])"
   ]
  },
  {
   "cell_type": "code",
   "execution_count": 31,
   "metadata": {
    "collapsed": false
   },
   "outputs": [
    {
     "data": {
      "text/latex": [
       "$$ z_{i} \\in \\{0,1\\} \\quad\\forall i \\in \\{1,2\\} $$"
      ],
      "text/plain": [
       "2-element Array{Variable,1}:\n",
       " z[1]\n",
       " z[2]"
      ]
     },
     "execution_count": 31,
     "metadata": {},
     "output_type": "execute_result"
    }
   ],
   "source": [
    "@defVar(bigM, z[1:num_regions], Bin)"
   ]
  },
  {
   "cell_type": "code",
   "execution_count": 32,
   "metadata": {
    "collapsed": false
   },
   "outputs": [
    {
     "data": {
      "text/latex": [
       "$$ z_{1} + z_{2} = 1 $$"
      ],
      "text/plain": [
       "z[1] + z[2] = 1"
      ]
     },
     "execution_count": 32,
     "metadata": {},
     "output_type": "execute_result"
    }
   ],
   "source": [
    "@addConstraint(bigM, sum(z) == 1)"
   ]
  },
  {
   "cell_type": "code",
   "execution_count": 33,
   "metadata": {
    "collapsed": false
   },
   "outputs": [],
   "source": [
    "M = 100\n",
    "for i in 1:num_regions\n",
    "    @addConstraint(bigM, A[i] * x .+ M * z[i] .<= b[i] .+ M)\n",
    "end\n"
   ]
  },
  {
   "cell_type": "code",
   "execution_count": 43,
   "metadata": {
    "collapsed": false
   },
   "outputs": [
    {
     "data": {
      "text/plain": [
       ":Min"
      ]
     },
     "execution_count": 43,
     "metadata": {},
     "output_type": "execute_result"
    }
   ],
   "source": [
    "@setObjective(bigM, Min, sum((x - [2; 1.5]).^2))"
   ]
  },
  {
   "cell_type": "code",
   "execution_count": 44,
   "metadata": {
    "collapsed": false
   },
   "outputs": [
    {
     "data": {
      "text/latex": [
       "$$ \\begin{alignat*}{1}\\min\\quad & x_{1}^2 + x_{2}^2 - 4 x_{1} - 3 x_{2} + 6.25\\\\\n",
       "\\text{Subject to} \\quad & z_{1} + z_{2} = 1\\\\\n",
       " & 0.598535189785124 x_{1} - 0.8010965151521291 x_{2} + 100 z_{1} \\leq 100.55265530942272\\\\\n",
       " & -0.8753588193127079 x_{1} + 0.4834738229226709 x_{2} + 100 z_{1} \\leq 99.14719672772952\\\\\n",
       " & 0.19744509778201555 x_{1} + 0.9803139463263034 x_{2} + 100 z_{1} \\leq 101.09188092951828\\\\\n",
       " & 0.7061375219202579 x_{1} - 0.7080747136682097 x_{2} + 100 z_{2} \\leq 101.32312703785445\\\\\n",
       " & -0.7631237016780053 x_{1} + 0.6462524397921131 x_{2} + 100 z_{2} \\leq 98.54741192025995\\\\\n",
       " & -0.6732067658035044 x_{1} + 0.7394542923510458 x_{2} + 100 z_{2} \\leq 98.80211193002926\\\\\n",
       " & x_{i} free \\quad\\forall i \\in \\{1,2\\}\\\\\n",
       " & z_{i} \\in \\{0,1\\} \\quad\\forall i \\in \\{1,2\\}\\\\\n",
       "\\end{alignat*}\n",
       " $$"
      ],
      "text/plain": [
       "Minimization problem with:\n",
       " * 7 linear constraints\n",
       " * 4 variables: 2 binary\n",
       "Solver set to Default"
      ]
     },
     "execution_count": 44,
     "metadata": {},
     "output_type": "execute_result"
    }
   ],
   "source": [
    "bigM"
   ]
  },
  {
   "cell_type": "code",
   "execution_count": 45,
   "metadata": {
    "collapsed": false
   },
   "outputs": [
    {
     "name": "stdout",
     "output_type": "stream",
     "text": [
      "Optimize a model with 7 rows, 4 columns and 20 nonzeros\n",
      "Model has 2 quadratic objective terms\n",
      "Coefficient statistics:\n",
      "  Matrix range    [2e-01, 1e+02]\n",
      "  Objective range [3e+00, 4e+00]\n",
      "  Bounds range    [1e+00, 1e+00]\n",
      "  RHS range       [1e+00, 1e+02]\n",
      "Presolve removed 1 rows and 1 columns\n",
      "Presolve time: 0.00s\n",
      "Presolved: 6 rows, 3 columns, 18 nonzeros\n",
      "Presolved model has 2 quadratic objective terms\n",
      "\n",
      "Loaded MIP start with objective -5.4708\n",
      "\n",
      "Variable types: 2 continuous, 1 integer (1 binary)\n",
      "\n",
      "Root relaxation: objective -6.250000e+00, 3 iterations, 0.00 seconds\n",
      "\n",
      "    Nodes    |    Current Node    |     Objective Bounds      |     Work\n",
      " Expl Unexpl |  Obj  Depth IntInf | Incumbent    BestBd   Gap | It/Node Time\n",
      "\n",
      "     0     0   -6.25000    0    1   -5.47080   -6.25000  14.2%     -    0s\n",
      "*    0     0               0      -5.6517284   -5.65173  0.00%     -    0s\n",
      "\n",
      "Explored 0 nodes (5 simplex iterations) in 0.00 seconds\n",
      "Thread count was 4 (of 8 available processors)\n",
      "\n",
      "Optimal solution found (tolerance 1.00e-04)\n",
      "Best objective -5.651728402584e+00, best bound -5.651728402584e+00, gap 0.0%\n"
     ]
    },
    {
     "data": {
      "text/plain": [
       ":Optimal"
      ]
     },
     "execution_count": 45,
     "metadata": {},
     "output_type": "execute_result"
    }
   ],
   "source": [
    "status = solve(bigM)"
   ]
  },
  {
   "cell_type": "code",
   "execution_count": 48,
   "metadata": {
    "collapsed": false
   },
   "outputs": [
    {
     "data": {
      "image/png": "[encoded data removed]",
      "text/plain": [
       "Figure(PyObject <matplotlib.figure.Figure object at 0x11a747b50>)"
      ]
     },
     "metadata": {},
     "output_type": "display_data"
    },
    {
     "data": {
      "text/plain": [
       "1-element Array{Any,1}:\n",
       " PyObject <matplotlib.lines.Line2D object at 0x11ae203d0>"
      ]
     },
     "execution_count": 48,
     "metadata": {},
     "output_type": "execute_result"
    }
   ],
   "source": [
    "using PyPlot\n",
    "figure()\n",
    "hold(1)\n",
    "colors = [\"b\", \"r\", \"g\", \"k\"]\n",
    "for j in 1:num_regions\n",
    "    plot(P[j][:,1], P[j][:,2], \"$(colors[j])o\")\n",
    "end\n",
    "plot([getValue(x[1])], [getValue(x[2])], \"go\", markersize=15, markerfacecolor=\"none\")"
   ]
  },
  {
   "cell_type": "code",
   "execution_count": null,
   "metadata": {
    "collapsed": true
   },
   "outputs": [],
   "source": []
  }
 ],
 "metadata": {
  "kernelspec": {
   "display_name": "Julia 0.3.10",
   "language": "julia",
   "name": "julia-0.3"
  },
  "language_info": {
   "file_extension": ".jl",
   "mimetype": "application/julia",
   "name": "julia",
   "version": "0.3.10"
  }
 },
 "nbformat": 4,
 "nbformat_minor": 0
}
