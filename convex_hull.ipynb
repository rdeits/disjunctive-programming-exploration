{
 "cells": [
  {
   "cell_type": "markdown",
   "metadata": {},
   "source": [
    "# Disjunctive Programming\n",
    "Let's compare two different approaches to disjunctive programming: Big-M and convex hull. "
   ]
  },
  {
   "cell_type": "markdown",
   "metadata": {},
   "source": [
    "## A simple problem\n",
    "minimize $ x^\\top Q x + q^\\top x $\n",
    "\n",
    "subject to:\n",
    "$$\n",
    "\\begin{aligned}\n",
    "x \\in R_1 \\cup R_2\\\\\n",
    "x_{lb} \\leq x \\leq x_{ub}\n",
    "\\end{aligned}\n",
    "$$\n",
    "\n",
    "where $R_i$ is a polyhedron specified by\n",
    "$$\n",
    "R_i \\equiv \\{ x\\  |\\  A_i x \\leq b_i \\}\n",
    "$$"
   ]
  },
  {
   "cell_type": "markdown",
   "metadata": {},
   "source": [
    "## Binary variables\n",
    "We'll rewrite the above problem by introducing binary variables $z_i$:\n",
    "\n",
    "minimize $ x^\\top Q x + q^\\top x $\n",
    "\n",
    "over $x$, $z_i$\n",
    "\n",
    "subject to:\n",
    "$$\n",
    "\\begin{aligned}\n",
    "z_1 = 1 \\implies x \\in R_1\\\\\n",
    "z_2 = 1 \\implies x \\in R_2\\\\\n",
    "z_i \\in \\{0, 1\\}\\\\\n",
    "\\sum_i z_i = 1\\\\\n",
    "x_{lb} \\leq x \\leq x_{ub}\n",
    "\\end{aligned}\n",
    "$$\n"
   ]
  },
  {
   "cell_type": "markdown",
   "metadata": {},
   "source": [
    "## Big-M\n",
    "The big-M formulation lets us convert the implies operators into linear constraints:\n",
    "\n",
    "$$\n",
    "z_i = 1 \\implies x \\in R_i\n",
    "$$\n",
    "\n",
    "becomes\n",
    "\n",
    "$$\n",
    "A_i x + M z_i \\leq b_i + M\n",
    "$$\n",
    "\n",
    "If M is sufficiently big, then when $z_i$ is $0$, the constraint becomes trivial, and when $z_i$ is $1$, the constraint becomes exactly $x \\in R_1$. \n"
   ]
  },
  {
   "cell_type": "markdown",
   "metadata": {},
   "source": [
    "# Implementation\n",
    "\n",
    "The following code was developed in Julia v0.6 using the following packages:"
   ]
  },
  {
   "cell_type": "code",
   "execution_count": 1,
   "metadata": {},
   "outputs": [
    {
     "name": "stdout",
     "output_type": "stream",
     "text": [
      "(\"QHull\", v\"0.0.0-\")\n",
      "(\"PyPlot\", v\"2.3.2\")\n",
      "(\"JuMP\", v\"0.17.1\")\n",
      "(\"Gurobi\", v\"0.3.3\")\n"
     ]
    }
   ],
   "source": [
    "# To install the QHull package, run:\n",
    "# Pkg.clone(\"git@github.com:davidavdav/QHull.jl\")\n",
    "using QHull\n",
    "using PyPlot\n",
    "using JuMP\n",
    "using Gurobi\n",
    "\n",
    "# Automatically display the installed versions of\n",
    "# each of the above packages\n",
    "for pkg in [\"QHull\", \"PyPlot\", \"JuMP\", \"Gurobi\"]\n",
    "    println((pkg, Pkg.installed(pkg)))\n",
    "end"
   ]
  },
  {
   "cell_type": "markdown",
   "metadata": {},
   "source": [
    "\n",
    "## Generating regions\n",
    "We'll generate the regions as the convex hull of some random points:"
   ]
  },
  {
   "cell_type": "code",
   "execution_count": 2,
   "metadata": {},
   "outputs": [
    {
     "data": {
      "text/plain": [
       "hull_points"
      ]
     },
     "execution_count": 2,
     "metadata": {},
     "output_type": "execute_result"
    }
   ],
   "source": [
    "\"\"\"\n",
    "Given N points as an N x dim matrix P,\n",
    "return a new matrix of size (N + 1) x dim\n",
    "points giving a counter-clockwise convex path\n",
    "around the convex hull of the points.\n",
    "\"\"\"\n",
    "function hull_points(P::Array{Float64,2})\n",
    "    hull = chull(P)\n",
    "    P[[hull.vertices..., hull.vertices[1]], :]\n",
    "end"
   ]
  },
  {
   "cell_type": "code",
   "execution_count": 3,
   "metadata": {},
   "outputs": [
    {
     "data": {
      "text/plain": [
       "2-element Array{Float64,1}:\n",
       " 2.0\n",
       " 1.5"
      ]
     },
     "execution_count": 3,
     "metadata": {},
     "output_type": "execute_result"
    }
   ],
   "source": [
    "dim = 2\n",
    "num_regions = 2\n",
    "P = Vector{Matrix{Float64}}()\n",
    "A = Vector{Matrix{Float64}}()\n",
    "b = Vector{Vector{Float64}}()\n",
    "R = [0 1; -1 0]\n",
    "\n",
    "for j in 1:num_regions\n",
    "    P_unordered = rand(4, dim) .+ [j 0]\n",
    "    push!(P, hull_points(P_unordered))\n",
    "    push!(A, zeros(size(P[j], 1) - 1, size(P[j], 2)))\n",
    "    push!(b, zeros(size(A[j], 1)))\n",
    "    for i in 1:(size(P[j], 1) - 1)\n",
    "        v = P[j][i+1, :] - P[j][i, :]\n",
    "        \n",
    "        A[j][i,:] = (R * v)\n",
    "        normalize!(A[j][i,:])\n",
    "        b[j][i] = A[j][i,:]' * P[j][i,:]\n",
    "    end\n",
    "end\n",
    "x_lb = 0\n",
    "x_ub = num_regions + 2\n",
    "x_goal = [num_regions / 2 + 1; 1.5]"
   ]
  },
  {
   "cell_type": "code",
   "execution_count": 4,
   "metadata": {},
   "outputs": [
    {
     "data": {
      "text/latex": [
       "$$ \\begin{alignat*}{1}\\min\\quad & 0\\\\\n",
       "\\text{Subject to} \\quad\\end{alignat*}\n",
       " $$"
      ],
      "text/plain": [
       "Feasibility problem with:\n",
       " * 0 linear constraints\n",
       " * 0 variables\n",
       "Solver is Gurobi"
      ]
     },
     "execution_count": 4,
     "metadata": {},
     "output_type": "execute_result"
    }
   ],
   "source": [
    "bigM = Model(solver=GurobiSolver())"
   ]
  },
  {
   "cell_type": "code",
   "execution_count": 5,
   "metadata": {},
   "outputs": [
    {
     "data": {
      "text/latex": [
       "$$ 0 \\leq x_{i} \\leq 4 \\quad\\forall i \\in \\{1,2\\} $$"
      ],
      "text/plain": [
       "2-element Array{JuMP.Variable,1}:\n",
       " x[1]\n",
       " x[2]"
      ]
     },
     "execution_count": 5,
     "metadata": {},
     "output_type": "execute_result"
    }
   ],
   "source": [
    "@variable(bigM, x_lb <= x[1:dim] <= x_ub)"
   ]
  },
  {
   "cell_type": "code",
   "execution_count": 6,
   "metadata": {},
   "outputs": [
    {
     "data": {
      "text/latex": [
       "$$ z_{i} \\in \\{0,1\\} \\quad\\forall i \\in \\{1,2\\} $$"
      ],
      "text/plain": [
       "2-element Array{JuMP.Variable,1}:\n",
       " z[1]\n",
       " z[2]"
      ]
     },
     "execution_count": 6,
     "metadata": {},
     "output_type": "execute_result"
    }
   ],
   "source": [
    "@variable(bigM, z[1:num_regions], Bin)"
   ]
  },
  {
   "cell_type": "code",
   "execution_count": 7,
   "metadata": {},
   "outputs": [
    {
     "data": {
      "text/latex": [
       "$$ z_{1} + z_{2} = 1 $$"
      ],
      "text/plain": [
       "z[1] + z[2] = 1"
      ]
     },
     "execution_count": 7,
     "metadata": {},
     "output_type": "execute_result"
    }
   ],
   "source": [
    "@constraint(bigM, sum(z) == 1)"
   ]
  },
  {
   "cell_type": "code",
   "execution_count": 8,
   "metadata": {},
   "outputs": [],
   "source": [
    "M = 100\n",
    "for i in 1:num_regions\n",
    "    @constraint(bigM, A[i] * x .+ M * z[i] .<= b[i] .+ M)\n",
    "end\n"
   ]
  },
  {
   "cell_type": "code",
   "execution_count": 9,
   "metadata": {},
   "outputs": [
    {
     "data": {
      "text/plain": [
       ":Min"
      ]
     },
     "execution_count": 9,
     "metadata": {},
     "output_type": "execute_result"
    }
   ],
   "source": [
    "@objective(bigM, Min, sum((x - x_goal).^2))"
   ]
  },
  {
   "cell_type": "code",
   "execution_count": 10,
   "metadata": {},
   "outputs": [
    {
     "data": {
      "text/latex": [
       "$$ \\begin{alignat*}{1}\\min\\quad & x_{1}^2 + x_{2}^2 - 4 x_{1} - 3 x_{2} + 6.25\\\\\n",
       "\\text{Subject to} \\quad & z_{1} + z_{2} = 1\\\\\n",
       " & -0.1989882832473664 x_{1} - 0.29808510931306986 x_{2} + 100 z_{1} \\leq 99.56806949307071\\\\\n",
       " & 0.3094059367169597 x_{1} - 0.3282203526015768 x_{2} + 100 z_{1} \\leq 100.38061227252244\\\\\n",
       " & 0.07001825364546899 x_{1} + 0.2786126130064317 x_{2} + 100 z_{1} \\leq 100.32502256271927\\\\\n",
       " & -0.1804359071150623 x_{1} + 0.34769284890821495 x_{2} + 100 z_{1} \\leq 99.95845354429407\\\\\n",
       " & 0.5821630926215544 x_{1} - 0.6281001361746266 x_{2} + 100 z_{2} \\leq 101.17016094583404\\\\\n",
       " & 0.2508916015901197 x_{1} + 0.6227855692510946 x_{2} + 100 z_{2} \\leq 101.10959015265155\\\\\n",
       " & -0.8330546942116741 x_{1} + 0.005314566923531938 x_{2} + 100 z_{2} \\leq 98.24039672367351\\\\\n",
       " & 0 \\leq x_{i} \\leq 4 \\quad\\forall i \\in \\{1,2\\}\\\\\n",
       " & z_{i} \\in \\{0,1\\} \\quad\\forall i \\in \\{1,2\\}\\\\\n",
       "\\end{alignat*}\n",
       " $$"
      ],
      "text/plain": [
       "Minimization problem with:\n",
       " * 8 linear constraints\n",
       " * 4 variables: 2 binary\n",
       "Solver is Gurobi"
      ]
     },
     "execution_count": 10,
     "metadata": {},
     "output_type": "execute_result"
    }
   ],
   "source": [
    "bigM"
   ]
  },
  {
   "cell_type": "code",
   "execution_count": 11,
   "metadata": {},
   "outputs": [
    {
     "name": "stdout",
     "output_type": "stream",
     "text": [
      "Optimize a model with 8 rows, 4 columns and 23 nonzeros\n",
      "Model has 2 quadratic objective terms\n",
      "Variable types: 2 continuous, 2 integer (2 binary)\n",
      "Coefficient statistics:\n",
      "  Matrix range     [5e-03, 1e+02]\n",
      "  Objective range  [3e+00, 4e+00]\n",
      "  QObjective range [2e+00, 2e+00]\n",
      "  Bounds range     [1e+00, 4e+00]\n",
      "  RHS range        [1e+00, 1e+02]\n",
      "Presolve removed 1 rows and 1 columns\n",
      "Presolve time: 0.00s\n",
      "Presolved: 7 rows, 3 columns, 21 nonzeros\n",
      "Presolved model has 2 quadratic objective terms\n",
      "Variable types: 2 continuous, 1 integer (1 binary)\n",
      "\n",
      "Root relaxation: objective -5.941797e+00, 7 iterations, 0.00 seconds\n",
      "\n",
      "    Nodes    |    Current Node    |     Objective Bounds      |     Work\n",
      " Expl Unexpl |  Obj  Depth IntInf | Incumbent    BestBd   Gap | It/Node Time\n",
      "\n",
      "     0     0   -5.94180    0    1          -   -5.94180      -     -    0s\n",
      "H    0     0                      -5.5925502   -5.94180  6.24%     -    0s\n",
      "H    0     0                      -5.9092570   -5.94180  0.55%     -    0s\n",
      "     0     0   -5.91716    0    1   -5.90926   -5.91716  0.13%     -    0s\n",
      "     0     0     cutoff    0        -5.90926   -5.90926  0.00%     -    0s\n",
      "\n",
      "Cutting planes:\n",
      "  Implied bound: 1\n",
      "  MIR: 1\n",
      "\n",
      "Explored 0 nodes (14 simplex iterations) in 0.01 seconds\n",
      "Thread count was 8 (of 8 available processors)\n",
      "\n",
      "Solution count 2: -5.90926 -5.59255 \n",
      "Pool objective bound -5.90926\n",
      "\n",
      "Optimal solution found (tolerance 1.00e-04)\n",
      "Best objective -5.909257028836e+00, best bound -5.909257028836e+00, gap 0.0000%\n"
     ]
    },
    {
     "data": {
      "text/plain": [
       ":Optimal"
      ]
     },
     "execution_count": 11,
     "metadata": {},
     "output_type": "execute_result"
    }
   ],
   "source": [
    "status = solve(bigM)"
   ]
  },
  {
   "cell_type": "code",
   "execution_count": 12,
   "metadata": {},
   "outputs": [
    {
     "data": {
      "image/png": "[encoded data removed]",
      "text/plain": [
       "PyPlot.Figure(PyObject <matplotlib.figure.Figure object at 0x135971fd0>)"
      ]
     },
     "metadata": {},
     "output_type": "display_data"
    },
    {
     "data": {
      "text/plain": [
       "(1.2510058226733667, 2.8118874440919366, 0.025060818899761236, 1.5702351991000114)"
      ]
     },
     "execution_count": 12,
     "metadata": {},
     "output_type": "execute_result"
    }
   ],
   "source": [
    "figure()\n",
    "for j in 1:num_regions\n",
    "    plot(P[j][:,1], P[j][:,2], \"b.-\")\n",
    "end\n",
    "plot([getvalue(x[1])], [getvalue(x[2])], \"g*\", markersize=15, markerfacecolor=\"g\")\n",
    "plot([x_goal[1]], [x_goal[2]], \"r*\", markersize=15)\n",
    "axis(\"equal\")"
   ]
  },
  {
   "cell_type": "markdown",
   "metadata": {},
   "source": [
    "## Convex Hull formulation\n",
    "minimize $ x^\\top Q x + q^\\top x $\n",
    "\n",
    "subject to:\n",
    "$$\n",
    "\\begin{aligned}\n",
    "v &= u_1 + u_2\\\\\n",
    "A_1 u_1 &\\leq y_1 b_1\\\\\n",
    "A_2 u_2 &\\leq y_2 b_2\\\\\n",
    "y_1 x_{lb} &\\leq u_1 \\leq y_1 x_{ub}\\\\\n",
    "y_2 x_{lb} &\\leq u_2 \\leq y_2 x_{ub}\\\\\n",
    "y_i &\\in \\{0, 1\\}\n",
    "\\end{aligned}\n",
    "$$\n",
    "\n",
    "where $R_i$ is a polyhedron specified by\n",
    "$$\n",
    "R_i \\equiv \\{ x\\  |\\  A_i x \\leq b_i \\}\n",
    "$$\n",
    "\n",
    "\n"
   ]
  },
  {
   "cell_type": "code",
   "execution_count": 13,
   "metadata": {},
   "outputs": [
    {
     "data": {
      "text/latex": [
       "$$ \\begin{alignat*}{1}\\min\\quad & 0\\\\\n",
       "\\text{Subject to} \\quad\\end{alignat*}\n",
       " $$"
      ],
      "text/plain": [
       "Feasibility problem with:\n",
       " * 0 linear constraints\n",
       " * 0 variables\n",
       "Solver is Gurobi"
      ]
     },
     "execution_count": 13,
     "metadata": {},
     "output_type": "execute_result"
    }
   ],
   "source": [
    "conv = Model(solver=GurobiSolver())"
   ]
  },
  {
   "cell_type": "code",
   "execution_count": 14,
   "metadata": {},
   "outputs": [
    {
     "data": {
      "text/latex": [
       "$$ v_{i} \\quad\\forall i \\in \\{1,2\\} $$"
      ],
      "text/plain": [
       "2-element Array{JuMP.Variable,1}:\n",
       " v[1]\n",
       " v[2]"
      ]
     },
     "execution_count": 14,
     "metadata": {},
     "output_type": "execute_result"
    }
   ],
   "source": [
    "@variable(conv, v[1:dim])"
   ]
  },
  {
   "cell_type": "code",
   "execution_count": 15,
   "metadata": {},
   "outputs": [
    {
     "data": {
      "text/latex": [
       "$$ u_{i,j} \\quad\\forall i \\in \\{1,2\\}, j \\in \\{1,2\\} $$"
      ],
      "text/plain": [
       "2×2 Array{JuMP.Variable,2}:\n",
       " u[1,1]  u[1,2]\n",
       " u[2,1]  u[2,2]"
      ]
     },
     "execution_count": 15,
     "metadata": {},
     "output_type": "execute_result"
    }
   ],
   "source": [
    "@variable(conv, u[1:num_regions, 1:dim])"
   ]
  },
  {
   "cell_type": "code",
   "execution_count": 16,
   "metadata": {},
   "outputs": [
    {
     "data": {
      "text/latex": [
       "$$ y_{i} \\in \\{0,1\\} \\quad\\forall i \\in \\{1,2\\} $$"
      ],
      "text/plain": [
       "2-element Array{JuMP.Variable,1}:\n",
       " y[1]\n",
       " y[2]"
      ]
     },
     "execution_count": 16,
     "metadata": {},
     "output_type": "execute_result"
    }
   ],
   "source": [
    "@variable(conv, y[1:num_regions], Bin)"
   ]
  },
  {
   "cell_type": "code",
   "execution_count": 17,
   "metadata": {},
   "outputs": [
    {
     "data": {
      "text/latex": [
       "$$ y_{1} + y_{2} = 1 $$"
      ],
      "text/plain": [
       "y[1] + y[2] = 1"
      ]
     },
     "execution_count": 17,
     "metadata": {},
     "output_type": "execute_result"
    }
   ],
   "source": [
    "@constraint(conv, sum(y) == 1)"
   ]
  },
  {
   "cell_type": "code",
   "execution_count": 18,
   "metadata": {},
   "outputs": [],
   "source": [
    "for i in 1:num_regions\n",
    "    @constraint(conv, A[i] * u[i,:] .<= y[i] .* b[i])\n",
    "end"
   ]
  },
  {
   "cell_type": "code",
   "execution_count": 19,
   "metadata": {},
   "outputs": [],
   "source": [
    "for i in 1:num_regions\n",
    "    @constraint(conv, y[i] * x_lb .<= u[i,:])\n",
    "    @constraint(conv, u[i,:] .<= y[i] * x_ub)\n",
    "end"
   ]
  },
  {
   "cell_type": "code",
   "execution_count": 20,
   "metadata": {},
   "outputs": [
    {
     "data": {
      "text/plain": [
       "2-element Array{JuMP.ConstraintRef{JuMP.Model,JuMP.GenericRangeConstraint{JuMP.GenericAffExpr{Float64,JuMP.Variable}}},1}:\n",
       " v[1] - u[1,1] - u[2,1] = 0\n",
       " v[2] - u[1,2] - u[2,2] = 0"
      ]
     },
     "execution_count": 20,
     "metadata": {},
     "output_type": "execute_result"
    }
   ],
   "source": [
    "@constraint(conv, v .== sum(u[i, :] for i=1:num_regions))"
   ]
  },
  {
   "cell_type": "code",
   "execution_count": 21,
   "metadata": {},
   "outputs": [
    {
     "data": {
      "text/plain": [
       ":Min"
      ]
     },
     "execution_count": 21,
     "metadata": {},
     "output_type": "execute_result"
    }
   ],
   "source": [
    "@objective(conv, Min, sum((v - x_goal).^2))"
   ]
  },
  {
   "cell_type": "code",
   "execution_count": 22,
   "metadata": {},
   "outputs": [
    {
     "data": {
      "text/latex": [
       "$$ \\begin{alignat*}{1}\\min\\quad & v_{1}^2 + v_{2}^2 - 4 v_{1} - 3 v_{2} + 6.25\\\\\n",
       "\\text{Subject to} \\quad & y_{1} + y_{2} = 1\\\\\n",
       " & -0.1989882832473664 u_{1,1} - 0.29808510931306986 u_{1,2} + 0.43193050692928847 y_{1} \\leq 0\\\\\n",
       " & 0.3094059367169597 u_{1,1} - 0.3282203526015768 u_{1,2} - 0.3806122725224476 y_{1} \\leq 0\\\\\n",
       " & 0.07001825364546899 u_{1,1} + 0.2786126130064317 u_{1,2} - 0.32502256271927216 y_{1} \\leq 0\\\\\n",
       " & -0.1804359071150623 u_{1,1} + 0.34769284890821495 u_{1,2} + 0.04154645570592613 y_{1} \\leq 0\\\\\n",
       " & 0.5821630926215544 u_{2,1} - 0.6281001361746266 u_{2,2} - 1.1701609458340476 y_{2} \\leq 0\\\\\n",
       " & 0.2508916015901197 u_{2,1} + 0.6227855692510946 u_{2,2} - 1.10959015265155 y_{2} \\leq 0\\\\\n",
       " & -0.8330546942116741 u_{2,1} + 0.005314566923531938 u_{2,2} + 1.7596032763264806 y_{2} \\leq 0\\\\\n",
       " & -u_{1,1} \\leq 0\\\\\n",
       " & -u_{1,2} \\leq 0\\\\\n",
       " & u_{1,1} - 4 y_{1} \\leq 0\\\\\n",
       " & u_{1,2} - 4 y_{1} \\leq 0\\\\\n",
       " & -u_{2,1} \\leq 0\\\\\n",
       " & -u_{2,2} \\leq 0\\\\\n",
       " & u_{2,1} - 4 y_{2} \\leq 0\\\\\n",
       " & u_{2,2} - 4 y_{2} \\leq 0\\\\\n",
       " & v_{1} - u_{1,1} - u_{2,1} = 0\\\\\n",
       " & v_{2} - u_{1,2} - u_{2,2} = 0\\\\\n",
       " & v_{i} \\quad\\forall i \\in \\{1,2\\}\\\\\n",
       " & u_{i,j} \\quad\\forall i \\in \\{1,2\\}, j \\in \\{1,2\\}\\\\\n",
       " & y_{i} \\in \\{0,1\\} \\quad\\forall i \\in \\{1,2\\}\\\\\n",
       "\\end{alignat*}\n",
       " $$"
      ],
      "text/plain": [
       "Minimization problem with:\n",
       " * 18 linear constraints\n",
       " * 8 variables: 2 binary\n",
       "Solver is Gurobi"
      ]
     },
     "execution_count": 22,
     "metadata": {},
     "output_type": "execute_result"
    }
   ],
   "source": [
    "conv"
   ]
  },
  {
   "cell_type": "code",
   "execution_count": 23,
   "metadata": {},
   "outputs": [
    {
     "name": "stdout",
     "output_type": "stream",
     "text": [
      "Optimize a model with 18 rows, 8 columns and 41 nonzeros\n",
      "Model has 2 quadratic objective terms\n",
      "Variable types: 6 continuous, 2 integer (2 binary)\n",
      "Coefficient statistics:\n",
      "  Matrix range     [5e-03, 4e+00]\n",
      "  Objective range  [3e+00, 4e+00]\n",
      "  QObjective range [2e+00, 2e+00]\n",
      "  Bounds range     [1e+00, 1e+00]\n",
      "  RHS range        [1e+00, 1e+00]\n",
      "Presolve removed 7 rows and 1 columns\n",
      "Presolve time: 0.00s\n",
      "Presolved: 11 rows, 7 columns, 31 nonzeros\n",
      "Presolved model has 2 quadratic objective terms\n",
      "Variable types: 6 continuous, 1 integer (1 binary)\n",
      "\n",
      "Root relaxation: objective -5.909257e+00, 16 iterations, 0.00 seconds\n",
      "\n",
      "    Nodes    |    Current Node    |     Objective Bounds      |     Work\n",
      " Expl Unexpl |  Obj  Depth IntInf | Incumbent    BestBd   Gap | It/Node Time\n",
      "\n",
      "*    0     0               0      -5.9092570   -5.90926  0.00%     -    0s\n",
      "\n",
      "Explored 0 nodes (16 simplex iterations) in 0.00 seconds\n",
      "Thread count was 8 (of 8 available processors)\n",
      "\n",
      "Solution count 1: -5.90926 \n",
      "Pool objective bound -5.90926\n",
      "\n",
      "Optimal solution found (tolerance 1.00e-04)\n",
      "Best objective -5.909257028836e+00, best bound -5.909257028836e+00, gap 0.0000%\n"
     ]
    },
    {
     "data": {
      "text/plain": [
       ":Optimal"
      ]
     },
     "execution_count": 23,
     "metadata": {},
     "output_type": "execute_result"
    }
   ],
   "source": [
    "status = solve(conv)"
   ]
  },
  {
   "cell_type": "code",
   "execution_count": 24,
   "metadata": {},
   "outputs": [
    {
     "data": {
      "image/png": "[encoded data removed]",
      "text/plain": [
       "PyPlot.Figure(PyObject <matplotlib.figure.Figure object at 0x13c67ed10>)"
      ]
     },
     "metadata": {},
     "output_type": "display_data"
    },
    {
     "data": {
      "text/plain": [
       "(1.2510058226733667, 2.8118874440919366, 0.025060818899761236, 1.5702351991000114)"
      ]
     },
     "execution_count": 24,
     "metadata": {},
     "output_type": "execute_result"
    }
   ],
   "source": [
    "figure()\n",
    "for j in 1:num_regions\n",
    "    plot(P[j][:,1], P[j][:,2], \"b.-\")\n",
    "end\n",
    "plot([getvalue(v[1])], [getvalue(v[2])], \"g*\", markersize=15, markerfacecolor=\"g\")\n",
    "plot([x_goal[1]], [x_goal[2]], \"r*\", markersize=15)\n",
    "axis(\"equal\")"
   ]
  },
  {
   "cell_type": "code",
   "execution_count": null,
   "metadata": {
    "collapsed": true
   },
   "outputs": [],
   "source": []
  }
 ],
 "metadata": {
  "kernelspec": {
   "display_name": "Julia 0.6.1",
   "language": "julia",
   "name": "julia-0.6"
  },
  "language_info": {
   "file_extension": ".jl",
   "mimetype": "application/julia",
   "name": "julia",
   "version": "0.6.1"
  }
 },
 "nbformat": 4,
 "nbformat_minor": 1
}
